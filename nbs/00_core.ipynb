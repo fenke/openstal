{
 "cells": [
  {
   "cell_type": "markdown",
   "metadata": {},
   "source": [
    "# core\n",
    "\n",
    "> Compose analytics modules for Wodan & AICore using NBDev literate programming tool."
   ]
  },
  {
   "cell_type": "code",
   "execution_count": null,
   "metadata": {},
   "outputs": [],
   "source": [
    "#| default_exp core"
   ]
  },
  {
   "cell_type": "code",
   "execution_count": null,
   "metadata": {},
   "outputs": [],
   "source": [
    "#| hide\n",
    "from nbdev.showdoc import *  # noqa: F403\n"
   ]
  },
  {
   "cell_type": "code",
   "execution_count": null,
   "metadata": {},
   "outputs": [],
   "source": [
    "#| export\n",
    "import datetime\n",
    "import pytz\n",
    "import logging\n",
    "\n",
    "from numpy import datetime64, timedelta64\n",
    "\n",
    "from dateutil import parser\n",
    "from functools import lru_cache\n"
   ]
  },
  {
   "cell_type": "markdown",
   "metadata": {},
   "source": [
    "## Logging"
   ]
  },
  {
   "cell_type": "code",
   "execution_count": null,
   "metadata": {},
   "outputs": [],
   "source": [
    "#| export\n",
    "def init_console_logging(name, level=logging.INFO, timestamp=True, formatstring=\"\"):\n",
    "    '''Setup none-blocking stream handler for sending loggin to the console.'''\n",
    "\n",
    "    # Only if no handlers defined.\n",
    "    if not logging.getLogger(name).handlers:\n",
    "\n",
    "        logger = logging.getLogger()\n",
    "        logger.setLevel(level)\n",
    "\n",
    "        console = logging.StreamHandler()\n",
    "        console.setLevel(level)\n",
    "\n",
    "        if formatstring:\n",
    "            formatter = logging.Formatter(formatstring, datefmt='%Y-%m-%dT%H:%M:%S%z')\n",
    "        else:\n",
    "            if timestamp:\n",
    "                formatter = logging.Formatter(\"%(asctime)s %(levelname)s\\t%(process)d\\t%(name)s\\t%(filename)s\\t%(lineno)d\\t%(message)s\", datefmt='%Y-%m-%dT%H:%M:%S%z')\n",
    "            else:\n",
    "                formatter = logging.Formatter(\"%(levelname)s\\t%(process)d\\t%(name)s\\t%(filename)s\\t%(lineno)d\\t%(message)s\")\n",
    "            \n",
    "        # tell the handler to use this format\n",
    "        console.setFormatter(formatter)\n",
    "\n",
    "        # add the handler to the root logger\n",
    "        logger.addHandler(console)\n",
    "        return logger\n",
    "    else:\n",
    "        #logging.getLogger(name).info(f'There already is a logger installed for {name}.')\n",
    "        return logging.getLogger(name)\n"
   ]
  },
  {
   "cell_type": "markdown",
   "metadata": {},
   "source": [
    "## Various functions"
   ]
  },
  {
   "cell_type": "code",
   "execution_count": null,
   "metadata": {},
   "outputs": [],
   "source": [
    "#| export\n",
    "\n",
    "def dict_structure(the_dict:dict, indent='    ') -> str:\n",
    "    # current level\n",
    "    current = []\n",
    "    for key, item in the_dict.items():\n",
    "        current.append(f\"{indent}{str(key):16}:\\t{str(type(item))}\")\n",
    "        if isinstance(item, dict) and item:\n",
    "            current.append(dict_structure(item, f\"{indent}    \"))\n",
    "    return \"\\n\".join(current)\n"
   ]
  },
  {
   "cell_type": "code",
   "execution_count": null,
   "metadata": {},
   "outputs": [
    {
     "name": "stdout",
     "output_type": "stream",
     "text": [
      "    key_1           :\t<class 'str'>\n",
      "    longerkey_2     :\t<class 'list'>\n",
      "    key_3           :\t<class 'dict'>\n",
      "        a               :\t<class 'list'>\n",
      "        b               :\t<class 'str'>\n",
      "        c               :\t<class 'int'>\n"
     ]
    }
   ],
   "source": [
    "print(dict_structure({\n",
    "    \"key_1\": \"A string\",\n",
    "    \"longerkey_2\": [1,2,3],\n",
    "    \"key_3\": dict(a=[], b=\"2\", c=3)\n",
    "}))"
   ]
  },
  {
   "cell_type": "markdown",
   "metadata": {},
   "source": [
    "## Date & time\n"
   ]
  },
  {
   "cell_type": "code",
   "execution_count": null,
   "metadata": {},
   "outputs": [],
   "source": [
    "#| export\n",
    "\n",
    "@lru_cache(256)\n",
    "def make_datetime(d):\n",
    "    # use parser to convert from string representation\n",
    "    if isinstance(d, str):\n",
    "        return parser.parse(d)\n",
    "    # ints and floats are asumed to be unix timestamps (seconds sinds 1/1/1970)\n",
    "    elif isinstance(d, int):\n",
    "        return datetime.datetime.fromtimestamp(d)\n",
    "    elif isinstance(d, float):\n",
    "        return datetime.datetime.fromtimestamp(d)\n",
    "    # for other cases use the object's string cast and parse that\n",
    "    else:\n",
    "        return parser.parse(str(d))\n",
    "\n",
    "\n",
    "@lru_cache(128)\n",
    "def make_naive_utc(d):\n",
    "    if d.tzinfo is None or d.tzinfo.utcoffset(d) is None:\n",
    "        timezone = pytz.timezone(\"UTC\")\n",
    "        return timezone.localize(d)\n",
    "    return d\n",
    "\n",
    "@lru_cache(128)\n",
    "def make_naive_tzaware(d, tz='UTC'):\n",
    "    if d.tzinfo is None or d.tzinfo.utcoffset(d) is None:\n",
    "        timezone = pytz.timezone(tz)\n",
    "        return timezone.localize(d)\n",
    "    return d\n",
    "\n",
    "@lru_cache(128)\n",
    "def unix_time(some_time):\n",
    "    \"\"\"Convert to unix (epoch) timestamp\"\"\"\n",
    "    if isinstance(some_time, datetime64):\n",
    "        return (\n",
    "                    datetime64(some_time,\"ms\")\n",
    "                        - datetime64('1970-01-01T00:00:00')\n",
    "                ) / timedelta64(1, 's')\n",
    "    elif isinstance(some_time, datetime.date):\n",
    "        return some_time.timestamp()\n",
    "    elif isinstance(some_time, float):\n",
    "        return some_time\n",
    "    elif isinstance(some_time, int):\n",
    "        return some_time\n",
    "    else:\n",
    "        return make_datetime(some_time).timestamp()\n",
    "\n"
   ]
  },
  {
   "cell_type": "code",
   "execution_count": null,
   "metadata": {},
   "outputs": [],
   "source": [
    "#| hide\n",
    "import nbdev\n",
    "nbdev.nbdev_export()"
   ]
  }
 ],
 "metadata": {
  "kernelspec": {
   "display_name": "litany.venv",
   "language": "python",
   "name": "litany.venv"
  }
 },
 "nbformat": 4,
 "nbformat_minor": 4
}
