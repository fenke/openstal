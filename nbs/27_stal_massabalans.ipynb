{
 "cells": [
  {
   "cell_type": "markdown",
   "id": "a44d896e",
   "metadata": {},
   "source": [
    "---\n",
    "author: Fenke Meijer\n",
    "\n",
    "format:\n",
    "  html:\n",
    "    mathjax: true\n",
    "    embed-resources: true\n",
    "  typst:\n",
    "    output-file: barn_mass_balance.pdf\n",
    "---\n",
    "\n",
    "# Barn Mass Balance\n",
    "> Mass balance calculations for a barn following Wageningen UR model."
   ]
  },
  {
   "cell_type": "code",
   "execution_count": null,
   "id": "cc7f911f",
   "metadata": {},
   "outputs": [],
   "source": [
    "#| hide\n",
    "from nbdev.showdoc import *"
   ]
  },
  {
   "cell_type": "code",
   "execution_count": null,
   "id": "971cb166",
   "metadata": {},
   "outputs": [],
   "source": [
    "#| default_exp modules.barn_mass_balance"
   ]
  },
  {
   "cell_type": "code",
   "execution_count": null,
   "id": "4a9714e5",
   "metadata": {},
   "outputs": [],
   "source": [
    "#| export\n",
    "import numpy as np\n",
    "import pandas as pd\n",
    "from scipy.constants import gas_constant\n",
    "\n",
    "from pandas import DataFrame\n",
    "from corebridge.aicorebridge import AICoreModule\n",
    "\n"
   ]
  },
  {
   "cell_type": "code",
   "execution_count": null,
   "id": "37bffa7a",
   "metadata": {},
   "outputs": [],
   "source": [
    "import os, json"
   ]
  },
  {
   "cell_type": "code",
   "execution_count": null,
   "id": "f70cbb61",
   "metadata": {},
   "outputs": [],
   "source": [
    "#| exporti\n",
    "kelvin_zero = -273.15"
   ]
  },
  {
   "cell_type": "code",
   "execution_count": null,
   "id": "8bf30041",
   "metadata": {},
   "outputs": [],
   "source": [
    "#| exporti\n",
    "MOLECULAR_MASS = dict(\n",
    "    co2=44.01,\n",
    "    nh3=17.031,\n",
    "    ch4=16.043\n",
    ")\n",
    "\n",
    "MOLECULAR_NAMES = { \n",
    "    k: ([v] if isinstance(v, str) else list(v)) + [k]\n",
    "    for k, v in dict(\n",
    "        co2=['carbon_dioxide', 'carbon dioxide', 'kooldioxide', 'co2'],\n",
    "        nh3=['ammonia', 'nh3', 'ammoniak'],\n",
    "        ch4=['methane', 'methaan', 'ch4']\n",
    "    ).items() \n",
    "}\n"
   ]
  },
  {
   "cell_type": "markdown",
   "id": "b26d4cd5",
   "metadata": {},
   "source": [
    "## Achtergrond\n",
    "\n",
    "In Nederland is men momenteel vooral geïnteresseerd in de emissie uit stallen\n",
    "met dieren. We kunnen onderscheid maken tussen 2 type stallen: de natuurlijk \n",
    "geventileerde stallen (open stallen) en de mechanisch geventileerde stallen \n",
    "(gesloten stallen). Over het algemeen zitten melkkoeien (en -geiten) in open \n",
    "stallen en zitten de intensievere dieren (pluimvee, varkens, kalveren) in \n",
    "gesloten stallen.\n",
    "\n",
    "### Emissieberekening \n",
    "\n",
    "Emissie wordt berekend door de gemeten concentratie van een bepaalde stof \n",
    "te vermenigvuldigen met het ventilatiedebiet. De eenheid van emissie wordt\n",
    "uitgedrukt in massa/tijdseenheid” (zoals kg/uur). \n",
    "\n",
    "### Concentratiemeting\n",
    "\n",
    "De concentratie van de stof wordt gemeten met sensoren. Deze worden op \n",
    "bepaalde plekken bij de luchtinlaat en luchtuitlaat van de stal gehangen. \n",
    "Er is een consensus dat de gemeten concentraties dan betrouwbaar en \n",
    "representatief zijn.\n",
    "\n",
    "### Ventilatiedebiet\n",
    "\n",
    "#### Mechanisch geventileerde stallen\n",
    "\n",
    "In mechanisch geventileerde stallen wordt het ventilatiedebiet bepaald met behulp van\n",
    "meetwaaiers. Deze meetwaaiers worden op ventilatoren geplaatst en kunnen meten hoeveel lucht\n",
    "er per tijdseenheid door de ventilator wordt geblazen. Omdat mechanisch geventileerde stallen\n",
    "maar één (of enkele) uitstroomopeningen hebben, kan op deze manier worden bepaald wat het\n",
    "totale ventilatiedebiet van een stal is. Er is een consensus dat het bepalen van ventilatiedebiet met\n",
    "behulp van meetwaaiers betrouwbaar en representatief is.\n",
    "\n",
    "#### Natuurlijk geventileerde stallen\n",
    "\n",
    "Natuurlijk geventileerde stallen zijn voornamelijk open, waardoor het niet mogelijk is om met\n",
    "meetwaaiers te bepalen wat het debiet van de stallen is. Daarom wordt bij deze stallen gebruik\n",
    "gemaakt van de CO~2~ massabalans. Dit is een theoretische benadering gebaseerd op verschillende\n",
    "parameters die door de tijd heen kunnen veranderen."
   ]
  },
  {
   "cell_type": "markdown",
   "id": "b2a884b1",
   "metadata": {},
   "source": [
    "### Emissieberekening met CO~2~ massabalans \n",
    "\n",
    "De ratiomethode is een veelgebruikte methode om de emissie van ammoniak (NH~3~) in \n",
    "stallen te schatten. Deze methode maakt gebruik van de concentratie van CO~2~ als \n",
    "tracergas, omdat CO~2~ een relatief constante productie heeft in de stal en goed te \n",
    "berekenen en meten is. De basis van de ratiomethode is het idee dat de verhouding \n",
    "tussen de concentraties van CO~2~  binnen en buiten de stal een indicatie geeft van \n",
    "het ventilatiedebiet en daarmee de totale emissie van NH~3~.\n",
    "\n",
    "Een randvoorwaarde van de ratiomethode is dat de concentraties van NH~3~ en het \n",
    "tracergas - in dit geval CO~2~  - op dezelfde meetpunten en met dezelfde meetfrequentie\n",
    "gemeten moeten worden. Om een goede schatting van de emissie te verkrijgen is het \n",
    "van belang dat *de concentratieratio’s per meetpunt worden geschat en daarna\n",
    "een gemiddeld van deze waarden wordt genomen*, in plaats dan eerst een gemiddelde \n",
    "concentratie van al die punten te bepalen en daarna de ratiomethode te gebruiken.\n"
   ]
  },
  {
   "cell_type": "code",
   "execution_count": null,
   "id": "e0bfead8",
   "metadata": {},
   "outputs": [],
   "source": []
  },
  {
   "cell_type": "markdown",
   "id": "5ff5bf2a",
   "metadata": {},
   "source": [
    "## Support calculations"
   ]
  },
  {
   "cell_type": "markdown",
   "id": "1e1bf82e",
   "metadata": {},
   "source": [
    "### Gas density\n",
    "\n",
    "The density of a gas can be calculated using the ideal gas law:\n",
    "$$\n",
    "\\rho = \\frac{M p}{R \\cdot T}\n",
    "$$\n",
    "\n",
    "where:\n",
    "* $M$ is the molar mass of the gas in kg/mol\n",
    "\n",
    "* $p$ is the pressure in Pascals\n",
    "\n",
    "* $T$ is the temperature in Kelvin\n",
    "\n",
    "* $R$ is the universal gas constant\n"
   ]
  },
  {
   "cell_type": "code",
   "execution_count": null,
   "id": "757b6439",
   "metadata": {},
   "outputs": [],
   "source": [
    "#| export\n",
    "\n",
    "def gas_density(\n",
    "        P:float,        # pressure in Pascal\n",
    "        T:float,        # temperature in Kelvin\n",
    "        ppm:float,      # measured parts per million\n",
    "        molweight:float # molecular weight in grams per mole\n",
    "    ):\n",
    "    '''Calculates mass density in grams per cubic metre\n",
    "    P : pressure in Pa\n",
    "    T : temperature in degrees Kelvin\n",
    "    ppm : measured parts per million\n",
    "    molweight: molecular weight in grams per mole'''\n",
    "\n",
    "    return (ppm/1000000) * molweight * P / (gas_constant * T)\n"
   ]
  },
  {
   "cell_type": "markdown",
   "id": "0315e2e1",
   "metadata": {},
   "source": [
    "### Gasconcentraties in de lucht\n",
    "\n",
    "Concentraties van chemicaliën in de lucht worden meestal gemeten als de massa van chemicaliën (milligram, microgram, nanogram of picogram) per volume lucht (kubieke meter of kubieke voet). Concentraties kunnen ook worden uitgedrukt als delen per miljoen (ppm) of delen per miljard (ppb) door gebruik te maken van een conversiefactor. Deze conversiefactor is gebaseerd op het moleculair gewicht van de chemische stof en is voor elke chemische stof verschillend. Typisch worden conversies voor chemicaliën in de lucht gemaakt met een veronderstelling van een druk van 1 atmosfeer en een temperatuur van 25 graden Celsius. Voor deze omstandigheden is de vergelijking om te converteren van concentratie in delen per miljoen naar concentratie in milligram per kubieke meter (mg/m3) als volgt:\n",
    "\n",
    "$$\t\\text{Concentratie (mg/m3)} = 0.0409 \t\\times \t\\text{concentratie (ppm)} \t\\times \t\\text{moleculair gewicht}$$"
   ]
  },
  {
   "cell_type": "markdown",
   "id": "24c2fa19",
   "metadata": {},
   "source": [
    "#### Concentrations of chemicals\n",
    "\n",
    "Concentrations of chemicals in the air are usually measured as the mass of chemicals (milligrams, micrograms, nanograms or picograms) per volume of air (cubic meters or cubic feet). Concentrations can also be expressed as parts per million (ppm) or parts per billion (ppb) by using a conversion factor. This conversion factor is based on the molecular weight of the chemical and it is different for every chemical. The temperature of the atmosphere also has an influence on the calculation.\n",
    "\n",
    "Typically, conversions for chemicals in air are made as\n",
    "suming a pressure of 1 atmosphere and a temperature of \n",
    "25 degrees Celsius. For these conditions, the equation to \n",
    "convert from concentration in parts per million to con\n",
    "centration in milligrams per cubic meter (mg/m3) is as \n",
    "follows:\n",
    "$$\n",
    "\\text{Concentration (mg/m3)} = 0.0409 \\times \\text{concentration (ppm)} \\times \\text{molecular weight}\n",
    "$$\n",
    "\n"
   ]
  },
  {
   "cell_type": "markdown",
   "id": "7b9ce5ec",
   "metadata": {},
   "source": [
    "#### Functie implementatie"
   ]
  },
  {
   "cell_type": "code",
   "execution_count": null,
   "id": "07b397be",
   "metadata": {},
   "outputs": [],
   "source": [
    "#| export\n",
    "\n",
    "def gas_density_from_sensor_measurment(\n",
    "        ppm:float,          # measured parts per million\n",
    "        molweight:float):   # molecular weight in grams per mole\n",
    "    '''Calculates mass density in milligrams per cubic metre'''\n",
    "\n",
    "    return round(0.0409 * ppm * molweight,3)\n"
   ]
  },
  {
   "cell_type": "markdown",
   "id": "b1d63788",
   "metadata": {},
   "source": [
    "### CO~2~ productie\n",
    "\n",
    "De CO~2~ productie in een stal (in m^3^ / uur) kan worden berekend met behulp van de volgende formules voor melkvee en pinken"
   ]
  },
  {
   "cell_type": "markdown",
   "id": "53bd3d33",
   "metadata": {},
   "source": [
    "#### Melkvee\n",
    "\n",
    "$$\n",
    "P CO_2 = 0.2 \\frac{5.6 m^{0.75} + 22 Y_1 + 1.6 \\times 10^{-5} p^3}{1000}\n",
    "$$\n",
    "\n",
    "Where:\n",
    "\n",
    "* $m$ is the live weight in kg\n",
    "* $Y_1$ is the daily milk production in kg per dier per dag\n",
    "* $p$ number of dracht dagen\n",
    "\n",
    "\n",
    "##### Functie implementatie\n",
    "\n"
   ]
  },
  {
   "cell_type": "code",
   "execution_count": null,
   "id": "47a3cff7",
   "metadata": {},
   "outputs": [],
   "source": [
    "#| export\n",
    "\n",
    "# =(5.6*(B10^0.75)+22*B7+1.6*(10^-5)*(B14^3))*B3/1000\n",
    "\n",
    "def PCO2_melkvee(\n",
    "        aantal,             # number of animals\n",
    "        melkproductie,      # milk production in kg per animal per day\n",
    "        drachtdagen,        # days carrying (average)\n",
    "        gewicht             # average weight of the animals in kg \n",
    "    ):\n",
    "    '''CO2 productie van melkvee per dier per dag\n",
    "    gewicht: (gemiddelde) gewicht van de dieren\n",
    "    melkproductie: melkproductie in kg per dier per dag\n",
    "    drachtdagen: gemiddelde drachttijd (in dagen)\n",
    "    De defaults zijn voor droogstaande koeien'''\n",
    "    return aantal * 0.2 * (\n",
    "        5.6 * np.pow(gewicht, 0.75) +\n",
    "        22 * melkproductie +\n",
    "        1.6e-5 * np.pow(drachtdagen, 3.0)\n",
    "    ) / 1000.0\n"
   ]
  },
  {
   "cell_type": "code",
   "execution_count": null,
   "id": "f6e9ed4b",
   "metadata": {},
   "outputs": [
    {
     "data": {
      "text/plain": [
       "np.float64(36.46325050213528)"
      ]
     },
     "execution_count": null,
     "metadata": {},
     "output_type": "execute_result"
    }
   ],
   "source": [
    "test_args_melkvee = dict(\n",
    "    aantal=130,\n",
    "    melkproductie=28,\n",
    "    drachtdagen=160,\n",
    "    gewicht=650\n",
    ")\n",
    "\n",
    "PCO2_melkvee(**test_args_melkvee) "
   ]
  },
  {
   "cell_type": "code",
   "execution_count": null,
   "id": "10a9dd35",
   "metadata": {},
   "outputs": [
    {
     "data": {
      "text/plain": [
       "np.float64(1.0695176539447053)"
      ]
     },
     "execution_count": null,
     "metadata": {},
     "output_type": "execute_result"
    }
   ],
   "source": [
    "test_args_droog = dict(\n",
    "    aantal=6,\n",
    "    melkproductie=0,\n",
    "    drachtdagen=220,\n",
    "    gewicht=650\n",
    ")\n",
    "\n",
    "PCO2_melkvee(**test_args_droog)"
   ]
  },
  {
   "cell_type": "markdown",
   "id": "d5fbcc89",
   "metadata": {},
   "source": [
    "#### Pinken\n",
    "\n",
    "$$\n",
    "P CO_2 = 0.2 \\frac{7.64 m^{0.69} + Y_2 (\\frac{23}{M} - 1) (\\frac{57.27 + 0.302 m}{1 - 0.171 Y_2})  + 1.6 \\times 10^{-5} p^3}{1000}\n",
    "$$\n",
    "\n",
    "Where:\n",
    "\n",
    "* $m$ is the live weight in kg\n",
    "\n",
    "* $M$ is the energy content of their food in MJ per kg\n",
    "\n",
    "* $Y_2$ is the daily weight gain in kg per dier per dag\n",
    "\n",
    "* $p$ number of dracht dagen\n",
    "\n",
    "##### Functie implementatie\n",
    "\n"
   ]
  },
  {
   "cell_type": "code",
   "execution_count": null,
   "id": "058f4ecd",
   "metadata": {},
   "outputs": [],
   "source": [
    "#| export\n",
    "\n",
    "def PCO2_pinken(\n",
    "        aantal,             # number of animals\n",
    "        energievoeding,     # energy feed\n",
    "        drachtdagen,        # days carrying (average)\n",
    "        gewicht,            # average weight of the animals in kg \n",
    "        gewichtstoename     # average weight gain of the animals in kg per day\n",
    "    ):\n",
    "        \n",
    "    '''CO2 productie van pinken'''\n",
    "    \n",
    "    return aantal * 0.2 * (\n",
    "        7.64 * np.pow(gewicht, 0.69) +\n",
    "        gewichtstoename * \n",
    "            (23.0 / energievoeding - 1.0) * (\n",
    "                (57.27 + 0.302 * gewicht) / \n",
    "                (1 - 0.171 * gewichtstoename) \n",
    "            ) +\n",
    "        1.6e-5 * np.pow(drachtdagen, 3.0)\n",
    "    ) / 1000.0\n",
    "\n",
    "\n"
   ]
  },
  {
   "cell_type": "code",
   "execution_count": null,
   "id": "83ba3b6c",
   "metadata": {},
   "outputs": [
    {
     "data": {
      "text/plain": [
       "np.float64(0.0)"
      ]
     },
     "execution_count": null,
     "metadata": {},
     "output_type": "execute_result"
    }
   ],
   "source": [
    "test_args_pinken = dict(\n",
    "    aantal=0,\n",
    "    energievoeding=10,\n",
    "    drachtdagen=140,\n",
    "    gewicht=400,\n",
    "    gewichtstoename=0.6\n",
    ")\n",
    "PCO2_pinken(**test_args_pinken)"
   ]
  },
  {
   "cell_type": "code",
   "execution_count": null,
   "id": "2f1ec840",
   "metadata": {},
   "outputs": [
    {
     "data": {
      "text/plain": [
       "np.float64(0.0)"
      ]
     },
     "execution_count": null,
     "metadata": {},
     "output_type": "execute_result"
    }
   ],
   "source": [
    "test_args_pinken_niet_drachtig = dict(\n",
    "    aantal=0,\n",
    "    energievoeding=10,\n",
    "    drachtdagen=0,\n",
    "    gewicht=250,\n",
    "    gewichtstoename=0.6\n",
    ")\n",
    "PCO2_pinken(**test_args_pinken_niet_drachtig)"
   ]
  },
  {
   "cell_type": "markdown",
   "id": "5c02d160",
   "metadata": {},
   "source": [
    "#### Temperatuur correctie\n",
    "\n",
    "Temperatuur heeft invloed op spijsveetering en gedrag en daarmee op de CO~2~ productie, correctie kan worden toegepast met de volgende formule:\n",
    "\n",
    "$$\n",
    "P CO_2 (T) = P CO_2 \\times (1000  + 4 \\times (20 - T_{stal})) / 1000\n",
    "$$"
   ]
  },
  {
   "cell_type": "code",
   "execution_count": null,
   "id": "0fc55e28",
   "metadata": {},
   "outputs": [],
   "source": [
    "#| export\n",
    "\n",
    "def PCO2_temperatuurcorrectie(\n",
    "        pco2,           # calculated CO2 production in cubic meters per hour\n",
    "        temperatuur     # temperature in the barn in degrees Celsius\n",
    "    ):\n",
    "    '''Bereken temperatuur correctie voor de CO2 productie'''\n",
    "    \n",
    "    return pco2 * (1000.0 + 4.0 * (20.0 - temperatuur)) / 1000.0\n"
   ]
  },
  {
   "cell_type": "markdown",
   "id": "db6f57e1",
   "metadata": {},
   "source": [
    "#### Parameters\n",
    "\n",
    "Voor het CO2-productiemodel zijn een aantal productiegegevens nodig. Melkproductie en \n",
    "–samenstelling worden altijd gemeten en gerapporteerd. De andere benodigde parameters \n",
    "(diergewicht, dagen in dracht, en voor jongvee de energiewaarde van het voer en \n",
    "gewichtstoename), worden bij voorkeur op basis van metingen op de bedrijfslocaties \n",
    "vastgesteld. Wanneer deze niet beschikbaar zijn dienen de volgende standaardwaarden \n",
    "voor te worden gebruikt. "
   ]
  },
  {
   "cell_type": "code",
   "execution_count": null,
   "id": "1d50d307",
   "metadata": {},
   "outputs": [],
   "source": [
    "#| export\n",
    "#| hide\n",
    "\n",
    "_default_parameters = [\n",
    "    dict(\n",
    "        categorie='melkvee',\n",
    "        gewicht=650,  # kg\n",
    "        drachtdagen=160,  # days\n",
    "    ),\n",
    "    dict(\n",
    "        categorie='droogstaande koeien',\n",
    "        gewicht=650,  # kg\n",
    "        drachtdagen=220,  # days\n",
    "    ),\n",
    "    dict(\n",
    "        categorie='drachtig jongvee',\n",
    "        gewicht=400,  # kg\n",
    "        drachtdagen=140,  # days\n",
    "        energievoeding=10.0,  # MJ NEL per kg\n",
    "        gewichtstoename=0.6,  # kg per day\n",
    "    ),\n",
    "    dict(\n",
    "        categorie='niet drachtig jongvee',\n",
    "        gewicht=250,  # kg\n",
    "        drachtdagen=0,  # days\n",
    "        energievoeding=10.0,  # MJ NEL per kg\n",
    "        gewichtstoename=0.6,  # kg per day\n",
    "    ),\n",
    "]"
   ]
  },
  {
   "cell_type": "code",
   "execution_count": null,
   "id": "3e2946cf",
   "metadata": {},
   "outputs": [
    {
     "data": {
      "application/vnd.microsoft.datawrangler.viewer.v0+json": {
       "columns": [
        {
         "name": "categorie",
         "rawType": "object",
         "type": "string"
        },
        {
         "name": "gewicht",
         "rawType": "int64",
         "type": "integer"
        },
        {
         "name": "drachtdagen",
         "rawType": "int64",
         "type": "integer"
        },
        {
         "name": "energievoeding",
         "rawType": "float64",
         "type": "float"
        },
        {
         "name": "gewichtstoename",
         "rawType": "float64",
         "type": "float"
        }
       ],
       "ref": "676461b1-0940-4a41-8574-e9baf326f071",
       "rows": [
        [
         "melkvee",
         "650",
         "160",
         null,
         null
        ],
        [
         "droogstaande koeien",
         "650",
         "220",
         null,
         null
        ],
        [
         "drachtig jongvee",
         "400",
         "140",
         "10.0",
         "0.6"
        ],
        [
         "niet drachtig jongvee",
         "250",
         "0",
         "10.0",
         "0.6"
        ]
       ],
       "shape": {
        "columns": 4,
        "rows": 4
       }
      },
      "text/html": [
       "<div>\n",
       "<style scoped>\n",
       "    .dataframe tbody tr th:only-of-type {\n",
       "        vertical-align: middle;\n",
       "    }\n",
       "\n",
       "    .dataframe tbody tr th {\n",
       "        vertical-align: top;\n",
       "    }\n",
       "\n",
       "    .dataframe thead th {\n",
       "        text-align: right;\n",
       "    }\n",
       "</style>\n",
       "<table border=\"1\" class=\"dataframe\">\n",
       "  <thead>\n",
       "    <tr style=\"text-align: right;\">\n",
       "      <th></th>\n",
       "      <th>gewicht</th>\n",
       "      <th>drachtdagen</th>\n",
       "      <th>energievoeding</th>\n",
       "      <th>gewichtstoename</th>\n",
       "    </tr>\n",
       "    <tr>\n",
       "      <th>categorie</th>\n",
       "      <th></th>\n",
       "      <th></th>\n",
       "      <th></th>\n",
       "      <th></th>\n",
       "    </tr>\n",
       "  </thead>\n",
       "  <tbody>\n",
       "    <tr>\n",
       "      <th>melkvee</th>\n",
       "      <td>650</td>\n",
       "      <td>160</td>\n",
       "      <td>NaN</td>\n",
       "      <td>NaN</td>\n",
       "    </tr>\n",
       "    <tr>\n",
       "      <th>droogstaande koeien</th>\n",
       "      <td>650</td>\n",
       "      <td>220</td>\n",
       "      <td>NaN</td>\n",
       "      <td>NaN</td>\n",
       "    </tr>\n",
       "    <tr>\n",
       "      <th>drachtig jongvee</th>\n",
       "      <td>400</td>\n",
       "      <td>140</td>\n",
       "      <td>10.0</td>\n",
       "      <td>0.6</td>\n",
       "    </tr>\n",
       "    <tr>\n",
       "      <th>niet drachtig jongvee</th>\n",
       "      <td>250</td>\n",
       "      <td>0</td>\n",
       "      <td>10.0</td>\n",
       "      <td>0.6</td>\n",
       "    </tr>\n",
       "  </tbody>\n",
       "</table>\n",
       "</div>"
      ],
      "text/plain": [
       "                       gewicht  drachtdagen  energievoeding  gewichtstoename\n",
       "categorie                                                                   \n",
       "melkvee                    650          160             NaN              NaN\n",
       "droogstaande koeien        650          220             NaN              NaN\n",
       "drachtig jongvee           400          140            10.0              0.6\n",
       "niet drachtig jongvee      250            0            10.0              0.6"
      ]
     },
     "execution_count": null,
     "metadata": {},
     "output_type": "execute_result"
    }
   ],
   "source": [
    "pd.DataFrame(_default_parameters).set_index('categorie')"
   ]
  },
  {
   "cell_type": "code",
   "execution_count": null,
   "id": "6d44cb60",
   "metadata": {},
   "outputs": [],
   "source": [
    "#| export\n",
    "default_pco2_parameters = {\n",
    "    kwargs_item.pop('categorie'): kwargs_item.copy()\n",
    "    for kwargs_item in _default_parameters\n",
    "}\n"
   ]
  },
  {
   "cell_type": "code",
   "execution_count": null,
   "id": "b28c4d6b",
   "metadata": {},
   "outputs": [
    {
     "name": "stdout",
     "output_type": "stream",
     "text": [
      "{\n",
      "    \"melkvee\": {\n",
      "        \"gewicht\": 650,\n",
      "        \"drachtdagen\": 160\n",
      "    },\n",
      "    \"droogstaande koeien\": {\n",
      "        \"gewicht\": 650,\n",
      "        \"drachtdagen\": 220\n",
      "    },\n",
      "    \"drachtig jongvee\": {\n",
      "        \"gewicht\": 400,\n",
      "        \"drachtdagen\": 140,\n",
      "        \"energievoeding\": 10.0,\n",
      "        \"gewichtstoename\": 0.6\n",
      "    },\n",
      "    \"niet drachtig jongvee\": {\n",
      "        \"gewicht\": 250,\n",
      "        \"drachtdagen\": 0,\n",
      "        \"energievoeding\": 10.0,\n",
      "        \"gewichtstoename\": 0.6\n",
      "    }\n",
      "}\n"
     ]
    }
   ],
   "source": [
    "print(json.dumps(default_pco2_parameters, indent=4))"
   ]
  },
  {
   "cell_type": "code",
   "execution_count": null,
   "id": "014011ad",
   "metadata": {},
   "outputs": [],
   "source": [
    "#| export\n",
    "\n",
    "def create_pco2_function_mapping(pco2_parameters):\n",
    "    '''Create a mapping of category to PCO2 calculation functions'''\n",
    "\n",
    "    parameters = default_pco2_parameters.copy()\n",
    "    parameters.update(pco2_parameters)\n",
    "    #print(json.dumps(parameters, indent=4))\n",
    "\n",
    "    return {\n",
    "        'melkvee': lambda aantal, **kwargs: PCO2_melkvee(\n",
    "            aantal=aantal,\n",
    "            melkproductie=kwargs.get('melkproductie', parameters['melkvee']['melkproductie']),  # kg per day\n",
    "            drachtdagen=kwargs.get('drachtdagen', parameters['melkvee']['drachtdagen']),  # days\n",
    "            gewicht=kwargs.get('gewicht',  parameters['melkvee']['gewicht'])  # kg\n",
    "        ),\n",
    "        'droogstaande koeien': lambda aantal, **kwargs: PCO2_melkvee(\n",
    "            aantal=aantal,\n",
    "            melkproductie=kwargs.get('melkproductie', 0),  # kg per day\n",
    "            drachtdagen=kwargs.get('drachtdagen', parameters['droogstaande koeien']['drachtdagen']),  # days\n",
    "            gewicht=kwargs.get('gewicht', parameters['droogstaande koeien']['gewicht'])  # kg\n",
    "        ),\n",
    "        'drachtig jongvee': lambda aantal, **kwargs: PCO2_pinken(\n",
    "            aantal=aantal,\n",
    "            energievoeding=kwargs.get('energievoeding', parameters['drachtig jongvee']['energievoeding']),  # MJ NEL per kg\n",
    "            drachtdagen=kwargs.get('drachtdagen', parameters['drachtig jongvee']['drachtdagen']),  # days\n",
    "            gewicht=kwargs.get('gewicht', parameters['drachtig jongvee']['gewicht']),  # kg\n",
    "            gewichtstoename=kwargs.get('gewichtstoename', parameters['drachtig jongvee']['gewichtstoename'])  # kg per day\n",
    "        ),\n",
    "        'niet drachtig jongvee': lambda aantal, **kwargs: PCO2_pinken(\n",
    "            aantal=aantal,\n",
    "            energievoeding=kwargs.get('energievoeding', parameters['niet drachtig jongvee']['energievoeding']),  # MJ NEL per kg\n",
    "            drachtdagen=kwargs.get('drachtdagen', parameters['niet drachtig jongvee']['drachtdagen']),  # days\n",
    "            gewicht=kwargs.get('gewicht', parameters['niet drachtig jongvee']['gewicht']),  # kg\n",
    "            gewichtstoename=kwargs.get('gewichtstoename', parameters['niet drachtig jongvee']['gewichtstoename'])  # kg per day\n",
    "        )\n",
    "    }"
   ]
  },
  {
   "cell_type": "code",
   "execution_count": null,
   "id": "ec46ccd4",
   "metadata": {},
   "outputs": [],
   "source": [
    "#| export\n",
    "\n",
    "def PCO2_calculation(\n",
    "        mapping,\n",
    "        category,\n",
    "        aantal,\n",
    "        **kwargs\n",
    "):\n",
    "    return mapping.get(category)(\n",
    "        aantal=aantal,\n",
    "        **kwargs\n",
    ")"
   ]
  },
  {
   "cell_type": "markdown",
   "id": "1cd87a6c",
   "metadata": {},
   "source": [
    "### Test berekeningen"
   ]
  },
  {
   "cell_type": "code",
   "execution_count": null,
   "id": "518bad62",
   "metadata": {},
   "outputs": [],
   "source": []
  },
  {
   "cell_type": "markdown",
   "id": "5194f340",
   "metadata": {},
   "source": [
    "### Emissie berekeningen"
   ]
  },
  {
   "cell_type": "markdown",
   "id": "fbdf155a",
   "metadata": {},
   "source": [
    "#### Ratiomethode\n",
    "\n",
    "De ammoniakemissies (E~i~; in kg/jaar per dierplaats) worden per meetdag $i$ bepaald \n",
    "op basis van de geschatte CO~2~ -\n",
    "productie in de stal (PCO~2i~; in m^3^ CO~2~ /uur), en de gemiddelde concentratieratio van CO~2~  en NH~3~ als CR~i~ over alle\n",
    "meetpunten m waar CO~2~ - en NH~3~ concentraties tegelijkertijd in de stal gemeten zijn:\n",
    "\n",
    "\n",
    "\n",
    "$$\n",
    "E_i = PCO_{2i} \\cdot CR_i \n",
    "$$\n",
    "\n",
    "Voor $CR_i$  \n",
    "\n",
    "$$\n",
    "CR_i = \\frac{1}{m} \\sum_{m} \\frac{(NH_{3})_{im}^{stal} - (\\overline{NH_{3}})_i^{buiten} }{(CO_{2})_{im}^{stal} - (\\overline{CO_{2}})_i^{buiten}  }\n",
    "$$\n",
    "\n",
    "$$\n",
    "\\overline{X_{i}^{buiten}} = \\sum_{m} X_{i}^{buiten}\n",
    "$$\n",
    "\n",
    "\n",
    "Waarin\n",
    "\n",
    "$X_{im}^{stal}$ \n",
    ": het 24-uurs gemiddelde van de concentratie van stof $X$ in stal op meetdag $i$ en op meetpunt $m$ \n",
    "\n",
    "$X_{im}^{buiten}$ \n",
    ": het 24-uurs gemiddelde van de concentratie van stof $X$ in de ingaande lucht op meetdag $i$ en op meetpunt $m$\n",
    "\n",
    "\n",
    "$\\overline{X_{i}^{buiten}}$\n",
    ": het 24-uurs gemiddelde van de concentratie van stof $X$ in de ingaande lucht op meetdag $i$ over alle meetpunten\n",
    "\n",
    "\n"
   ]
  },
  {
   "cell_type": "markdown",
   "id": "8362e6f8",
   "metadata": {},
   "source": [
    "\n",
    "\n",
    "$$\n",
    "\\overline{(NH_{3})}_{i}^{buiten} = \\frac{1}{m} \\sum_{m} (NH_{3})_{i}^{buiten}\n",
    "$$\n",
    "\n",
    "and \n",
    "$$\n",
    "\\overline{CO_{2i}}^{buiten} = \\frac{1}{n} \\sum_{k=1}^{n} (CO_{2})_{ik}^{buiten}\n",
    "$$"
   ]
  },
  {
   "cell_type": "markdown",
   "id": "1d6415cb",
   "metadata": {},
   "source": [
    "#### Ratiomethode met twee meetpunten\n",
    "\n",
    "Wanneer er slechts twee meetpunten zijn, een binnen en een buiten, dan vervalt de berekening van de gemiddelden over meetpunten en kan de emissie worden berekend met de vereenvoudiging van $CR_i$:\n",
    "\n",
    "\n",
    "$$\n",
    "CR_i = \\frac{(NH_{3})_{i}^{stal} - (NH_{3})_{i}^{buiten} }{(CO_{2})_{i}^{stal} - CO_{2i}^{buiten} }\n",
    "$$\n",
    "\n",
    "en \n",
    "\n",
    "$$\n",
    "E_i = PCO_{2i} \\cdot CR_i\n",
    "$$\n",
    "\n",
    "wordt\n",
    "\n",
    "$$\n",
    "E_i = PCO_{2i} \\cdot \\frac{(NH_{3})_{i}^{stal} - (NH_{3})_{i}^{buiten} }{(CO_{2})_{i}^{stal} - CO_{2i}^{buiten} }\n",
    "$$\n"
   ]
  },
  {
   "cell_type": "markdown",
   "id": "5895fcba",
   "metadata": {},
   "source": [
    "## Implementatie ratiomethode\n",
    "\n",
    "We verwachten dat de gebruiker de volgende data als timeseries dataframe aanlevert:\n",
    "\n",
    "| Kolomnaam       | Omschrijving                             | Eenheid           |\n",
    "| :-------------- | :--------------------------------------- | :---------------- |\n",
    "| CO2_stal        | CO2 concentratie in de stal in ppm       | ppm               |\n",
    "| CO2_buiten      | CO2 concentratie buiten de stal in ppm   | ppm               |\n",
    "| NH3_stal        | NH3 concentratie in de stal in ppm       | ppm               |\n",
    "| NH3_buiten      | NH3 concentratie buiten de stal in ppm   | ppm               |\n",
    "| temperatuur     | Temperatuur in de stal in Celcius        | °C                |\n",
    "\n",
    "Daarnaast verwachten we dat de gebruiker de volgende gegevens meegeeft\n",
    "\n",
    "bezetting\n",
    ": aantal dieren in de stal per categorie als dictionary met categorie als key en aantal als value\n",
    "\n",
    "parameters\n",
    ": dictionary met de parameters voor de verschillende categorieën. Missende waardes voor parameters worden aangevult uit de volgende standaard parameters:\n",
    "\n",
    "\n"
   ]
  },
  {
   "cell_type": "code",
   "execution_count": null,
   "id": "ba16a871",
   "metadata": {},
   "outputs": [
    {
     "data": {
      "application/vnd.microsoft.datawrangler.viewer.v0+json": {
       "columns": [
        {
         "name": "index",
         "rawType": "object",
         "type": "string"
        },
        {
         "name": "gewicht",
         "rawType": "float64",
         "type": "float"
        },
        {
         "name": "drachtdagen",
         "rawType": "float64",
         "type": "float"
        },
        {
         "name": "energievoeding",
         "rawType": "float64",
         "type": "float"
        },
        {
         "name": "gewichtstoename",
         "rawType": "float64",
         "type": "float"
        }
       ],
       "ref": "4ae486b4-5c13-4334-86bf-3dd21147c0e1",
       "rows": [
        [
         "melkvee",
         "650.0",
         "160.0",
         null,
         null
        ],
        [
         "droogstaande koeien",
         "650.0",
         "220.0",
         null,
         null
        ],
        [
         "drachtig jongvee",
         "400.0",
         "140.0",
         "10.0",
         "0.6"
        ],
        [
         "niet drachtig jongvee",
         "250.0",
         "0.0",
         "10.0",
         "0.6"
        ]
       ],
       "shape": {
        "columns": 4,
        "rows": 4
       }
      },
      "text/html": [
       "<div>\n",
       "<style scoped>\n",
       "    .dataframe tbody tr th:only-of-type {\n",
       "        vertical-align: middle;\n",
       "    }\n",
       "\n",
       "    .dataframe tbody tr th {\n",
       "        vertical-align: top;\n",
       "    }\n",
       "\n",
       "    .dataframe thead th {\n",
       "        text-align: right;\n",
       "    }\n",
       "</style>\n",
       "<table border=\"1\" class=\"dataframe\">\n",
       "  <thead>\n",
       "    <tr style=\"text-align: right;\">\n",
       "      <th></th>\n",
       "      <th>gewicht</th>\n",
       "      <th>drachtdagen</th>\n",
       "      <th>energievoeding</th>\n",
       "      <th>gewichtstoename</th>\n",
       "    </tr>\n",
       "  </thead>\n",
       "  <tbody>\n",
       "    <tr>\n",
       "      <th>melkvee</th>\n",
       "      <td>650.0</td>\n",
       "      <td>160.0</td>\n",
       "      <td>NaN</td>\n",
       "      <td>NaN</td>\n",
       "    </tr>\n",
       "    <tr>\n",
       "      <th>droogstaande koeien</th>\n",
       "      <td>650.0</td>\n",
       "      <td>220.0</td>\n",
       "      <td>NaN</td>\n",
       "      <td>NaN</td>\n",
       "    </tr>\n",
       "    <tr>\n",
       "      <th>drachtig jongvee</th>\n",
       "      <td>400.0</td>\n",
       "      <td>140.0</td>\n",
       "      <td>10.0</td>\n",
       "      <td>0.6</td>\n",
       "    </tr>\n",
       "    <tr>\n",
       "      <th>niet drachtig jongvee</th>\n",
       "      <td>250.0</td>\n",
       "      <td>0.0</td>\n",
       "      <td>10.0</td>\n",
       "      <td>0.6</td>\n",
       "    </tr>\n",
       "  </tbody>\n",
       "</table>\n",
       "</div>"
      ],
      "text/plain": [
       "                       gewicht  drachtdagen  energievoeding  gewichtstoename\n",
       "melkvee                  650.0        160.0             NaN              NaN\n",
       "droogstaande koeien      650.0        220.0             NaN              NaN\n",
       "drachtig jongvee         400.0        140.0            10.0              0.6\n",
       "niet drachtig jongvee    250.0          0.0            10.0              0.6"
      ]
     },
     "execution_count": null,
     "metadata": {},
     "output_type": "execute_result"
    }
   ],
   "source": [
    "pd.DataFrame(default_pco2_parameters).transpose()"
   ]
  },
  {
   "cell_type": "markdown",
   "id": "0643637d",
   "metadata": {},
   "source": [
    "#### Opschonen van data\n",
    "\n",
    "Een randvoorwaarde van de ratiomethode is dat de concentraties van NH~3~ en het \n",
    "tracergas - in dit geval CO~2~  - op dezelfde meetpunten en met dezelfde \n",
    "meetfrequentie gemeten moeten worden. Om een goede schatting van de emissie te \n",
    "verkrijgen is het van belang dat *de concentratieratio’s per meetpunt worden \n",
    "geschat en daarna een gemiddeld van deze waarden wordt genomen*, in plaats dan \n",
    "eerst een gemiddelde concentratie van al die punten te bepalen en daarna de \n",
    "ratiomethode te gebruiken.\n",
    "\n",
    "We verwachten dat de metingen van veschillende sensoren komen en op verschillende \n",
    "tijdstippen zijn gedaan. Om te kunnen rekenen moeten rijen volledig gevult zijn. We \n",
    "kunnen dit doen door de data te resamplen op een vast tijdsinterval (bijv. 10 minuten).\n",
    "\n"
   ]
  },
  {
   "cell_type": "code",
   "execution_count": null,
   "id": "1396e645",
   "metadata": {},
   "outputs": [],
   "source": [
    "#| export\n",
    "\n",
    "def resample_data(\n",
    "        data: DataFrame,    # DataFrame with measurement data\n",
    "        interval: str,      # resampling interval (e.g. '10min' for 10 minutes )\n",
    "        method: str         # resampling method (e.g. 'linear', 'cubic' )\n",
    "    ) -> DataFrame:\n",
    "    \n",
    "    '''Resample data to a specified interval and interpolate missing values with the givien method'''\n",
    "\n",
    "    return data.mask(data < 0).resample(interval).interpolate(method, limit=3).dropna(how='any')"
   ]
  },
  {
   "cell_type": "code",
   "execution_count": null,
   "id": "80e328ba",
   "metadata": {},
   "outputs": [],
   "source": []
  },
  {
   "cell_type": "markdown",
   "id": "de9257cc",
   "metadata": {},
   "source": [
    "#### Emissie ratio"
   ]
  },
  {
   "cell_type": "code",
   "execution_count": null,
   "id": "2ce002b4",
   "metadata": {},
   "outputs": [],
   "source": [
    "#| export\n",
    "def calculate_emission_ratio(\n",
    "        NH3_stal,        # NH3 concentration in the barn in mg/m3\n",
    "        NH3_buiten,      # NH3 concentration outside in mg/m3\n",
    "        CO2_stal,        # CO2 concentration in the barn in ppm\n",
    "        CO2_buiten       # CO2 concentration outside in ppm\n",
    "    ):\n",
    "    '''Calculate the emission ratio '''\n",
    "    nh3_diff = gas_density_from_sensor_measurment(\n",
    "        NH3_stal - NH3_buiten, \n",
    "        molweight=MOLECULAR_MASS['nh3'])\n",
    "    \n",
    "    co2_diff = gas_density_from_sensor_measurment(\n",
    "        CO2_stal - CO2_buiten, \n",
    "        molweight=MOLECULAR_MASS['co2'])\n",
    "    \n",
    "    return nh3_diff / co2_diff  # dimensionless ratio\n",
    "    "
   ]
  },
  {
   "cell_type": "markdown",
   "id": "d9c468ff",
   "metadata": {},
   "source": [
    "With ratios calculated we can calculate the NH~3~ emission."
   ]
  },
  {
   "cell_type": "code",
   "execution_count": null,
   "id": "e6c60927",
   "metadata": {},
   "outputs": [],
   "source": [
    "#| export\n",
    "\n",
    "def extract_column_names(\n",
    "        data: DataFrame # DataFrame with measurement data\n",
    ") -> dict:\n",
    "    '''Extract column names for NH3, CO2 and temperature from the DataFrame'''\n",
    "\n",
    "    nh3_columns = [col for col in data.columns if any(name in col.lower() for name in MOLECULAR_NAMES['nh3'])]\n",
    "    co2_columns = [col for col in data.columns if any(name in col.lower() for name in MOLECULAR_NAMES['co2'])]\n",
    "    temperature_columns = [col for col in data.columns if 'temperatu' in col.lower()]\n",
    "\n",
    "    columnmapping = {\n",
    "        location: {\n",
    "            'nh3':  [col for col in nh3_columns if location in col.lower()],\n",
    "            'co2':  [col for col in co2_columns if location in col.lower()],\n",
    "            'temp': [col for col in temperature_columns if location in col.lower()]\n",
    "        }\n",
    "\n",
    "        for location in ['stal', 'buiten']\n",
    "    }\n",
    "    return columnmapping"
   ]
  },
  {
   "cell_type": "markdown",
   "id": "151d61b0",
   "metadata": {},
   "source": [
    "#### Uiteindelijke berekenening"
   ]
  },
  {
   "cell_type": "code",
   "execution_count": null,
   "id": "21f00540",
   "metadata": {},
   "outputs": [],
   "source": [
    "#| export\n",
    "\n",
    "def calculate_emission(\n",
    "        data: DataFrame,        # DataFrame with measurement data\n",
    "        pco2_parameters: dict,  # parameters for the PCO2 calculation\n",
    "        bezetting: dict,        # dictionary with the animal categories and their counts\n",
    "        interpolate: dict=dict(interval='7min', method='linear' ), # resampling interval and method\n",
    "\n",
    "    ):\n",
    "    '''Calculate the emission using the ratio method'''\n",
    "\n",
    "    data = resample_data(data, **interpolate)\n",
    "    columnmapping = extract_column_names(data)\n",
    "\n",
    "\n",
    "    # Bereken de CO2 productie -------------------------------------\n",
    "    temperatuur = data[columnmapping['stal']['temp']].mean(axis=1)\n",
    "    pco2_mapping = create_pco2_function_mapping(pco2_parameters)\n",
    "    pco2_calculated = pd.concat(\n",
    "        [\n",
    "            PCO2_temperatuurcorrectie(\n",
    "                pco2_mapping.get(category)(**params),\n",
    "                temperatuur\n",
    "            ).rename(category)\n",
    "            for category, params in bezetting.items()\n",
    "        ], axis=1\n",
    "    )\n",
    "    pco2 = pco2_calculated.sum(axis=1) #----------------------------\n",
    "\n",
    "    nh3_binnen = data[columnmapping['stal']['nh3']].mean(axis=1)\n",
    "    nh3_buiten = data[columnmapping['buiten']['nh3']].min(axis=1)\n",
    "    co2_binnen = data[columnmapping['stal']['co2']].mean(axis=1)\n",
    "    co2_buiten = data[columnmapping['buiten']['co2']].min(axis=1)\n",
    "\n",
    "    ratio = calculate_emission_ratio(\n",
    "        NH3_stal=nh3_binnen,\n",
    "        NH3_buiten=nh3_buiten,\n",
    "        CO2_stal=co2_binnen,\n",
    "        CO2_buiten=co2_buiten\n",
    "    )\n",
    "\n",
    "\n",
    "    emissie = ratio * pco2   # g NH3 per uur\n",
    "\n",
    "    return emissie    \n"
   ]
  },
  {
   "cell_type": "markdown",
   "id": "d196800b",
   "metadata": {},
   "source": [
    "#### Airflow from CO2"
   ]
  },
  {
   "cell_type": "code",
   "execution_count": null,
   "id": "192c474c",
   "metadata": {},
   "outputs": [],
   "source": [
    "def calculate_airflow_from_co2(\n",
    "        PCO2,          # CO2 production in kg per uur\n",
    "        CO2_stal,     # CO2 concentration in the barn in ppm\n",
    "        CO2_buiten,   # CO2 concentration outside in ppm\n",
    "    ):\n",
    "    '''Calculate the airflow from CO2 concentrations and production'''\n",
    "    \n",
    "    return PCO2 * 1e-6 *  CO2_buiten / CO2_stal  # m3 per uur"
   ]
  },
  {
   "cell_type": "code",
   "execution_count": null,
   "id": "180c37b6",
   "metadata": {},
   "outputs": [],
   "source": []
  },
  {
   "cell_type": "markdown",
   "id": "e04ef587",
   "metadata": {},
   "source": [
    "## Analyse worksheet berekeningen\n"
   ]
  },
  {
   "cell_type": "markdown",
   "id": "f9ed3dd1",
   "metadata": {},
   "source": [
    "\n",
    "\n",
    "### NH3 Emissie berekend [kg/dpl/jaar]\n",
    "\n",
    "```\n",
    "IF(\n",
    "    ISNUMBER(BE4),\n",
    "    BE4*(AO4-AP4)/1000000*24*365/(Q4-Y4),\n",
    "    \"\"\n",
    ")\n",
    "\n",
    "```\n",
    "\n",
    "$$\n",
    "BG_i = BE_i \\times \\frac{ (AO_i - AP_i)}{Q_i - Y_i} \\times \\frac{  24 \\times 365}{1000000} \n",
    "$$\n",
    "\n",
    "* $BE_i$ is _Debiet berekend [m3/uur]_\n",
    "\n",
    "* $AO_i$ is _NH3 concentratie stal [mg/m3]_\n",
    "\n",
    "* $AP_i$ is _NH3 concentratie buiten [mg/m3]_\n",
    "\n",
    "* $Y_i$ is _Afgedekte ligboxen_\n",
    "\n",
    "* $Q_i$ is _Dierplaatsen_"
   ]
  },
  {
   "cell_type": "markdown",
   "id": "3b323d4f",
   "metadata": {},
   "source": [
    "### Debiet berekend [m3/uur]\n",
    "```\n",
    "IF(\n",
    "    OR(\n",
    "        BD4=\"\",AM4=\"*\",AM4=\"\"\n",
    "    ),\n",
    "    IF(\n",
    "        ISNUMBER(AQ4),\n",
    "        AQ4,\n",
    "        \"\"\n",
    "    ),\n",
    "    BD4*0.2/(0.000001*(AM4-AN4)))\n",
    "```\n",
    "\n",
    "$$\n",
    "BE_i = BD_i \\times \\frac{0.2}{0.000001 \\times (AM_i - AN_i)}\n",
    "$$\n",
    "\n",
    "* $BD_i$ is _Warmteproductie (totaal, gecorrigeerd door temperatuur)_\n",
    "\n",
    "* $AM_i$ is _CO2 stal [ppm]_\n",
    "\n",
    "* $AN_i$ is _CO2 buiten [ppm]_\n",
    "\n",
    "* $AQ_i$ is _Debiet gemeten [m3/uur]_\n"
   ]
  },
  {
   "cell_type": "markdown",
   "id": "5645149c",
   "metadata": {},
   "source": [
    "From these two equations we can derive:\n",
    "\n",
    "\n",
    "\n",
    "$$\n",
    "BG_i = BD_i \\times \\frac{0.2}{0.000001 \\times (AM_i - AN_i)} \\times \\frac{ (AO_i - AP_i)}{Q_i - Y_i} \\times \\frac{  24 \\times 365}{1000000}  \\Leftrightarrow\n",
    "$$\n",
    "\n"
   ]
  },
  {
   "cell_type": "markdown",
   "id": "14ff998e",
   "metadata": {},
   "source": [
    "\n",
    "$$\n",
    "BG_i = BD_i \\times \\frac{0.2}{ (AM_i - AN_i)} \\times \\frac{ (AO_i - AP_i)}{Q_i - Y_i} \\times   24 \\times 365 \\Leftrightarrow\n",
    "$$\n"
   ]
  },
  {
   "cell_type": "markdown",
   "id": "6e1bb464",
   "metadata": {},
   "source": [
    "$$\n",
    "BG_i =  0.2 \\times BD_i \\times  \\frac{(AO_i - AP_i)}{ (AM_i - AN_i)} \\times \\frac{ 24 \\times 365}{Q_i - Y_i}   \n",
    "$$"
   ]
  },
  {
   "cell_type": "markdown",
   "id": "88ba2ba2",
   "metadata": {},
   "source": [
    "$$\n",
    "E_i = PCO_{2i} \\cdot \\frac{(NH_{3})_{i}^{stal} - (NH_{3})_{i}^{buiten} }{(CO_{2})_{i}^{stal} - CO_{2i}^{buiten} }\n",
    "$$"
   ]
  },
  {
   "cell_type": "markdown",
   "id": "3ed08d9e",
   "metadata": {},
   "source": [
    "\n",
    "### Warmteproductie (totaal, gecorrigeerd door temperatuur)\n",
    "\n",
    "```\n",
    "IF(\n",
    "    BC4=\"\",\n",
    "    \"\",\n",
    "    IF(\n",
    "        M4=\"*\",\n",
    "        BC4,\n",
    "        BC4*(1000+4*(20-M4))/1000\n",
    "    )\n",
    ")\n",
    "```\n",
    "\n",
    "$$\n",
    "BD_i = BC_i \\times \\frac{1000 + 4 \\times (20 - M_i)}{1000}\n",
    "$$\n",
    "\n",
    "* $BC_i$ is _Warmteproductie (totaal)_\n",
    "\n",
    "* $M_i$ is _Temperatuur [°C]_\n"
   ]
  },
  {
   "cell_type": "code",
   "execution_count": null,
   "id": "f12a7a91",
   "metadata": {},
   "outputs": [],
   "source": []
  },
  {
   "cell_type": "markdown",
   "id": "9e61b0e4",
   "metadata": {},
   "source": []
  },
  {
   "cell_type": "markdown",
   "id": "45198e59",
   "metadata": {},
   "source": [
    "### Warmteproductie totaal [W]\n",
    "\n",
    "```\n",
    "=IF(SUM(AY4:BB4)=0,\"\",SUM(AY4:BB4))\n",
    "```\n",
    "$$\n",
    "BC_i = \\sum_{j=AY}^{BB} P_j\n",
    "$$\n",
    "* $BC_i$ is _Warmteproductie (totaal)_\n",
    "\n",
    "* $P_j$ is _Warmteproductie categorie (melkvee, droogstaande koeien, drachtig jongvee, niet drachtig jongvee)_"
   ]
  },
  {
   "cell_type": "markdown",
   "id": "fe51c3b8",
   "metadata": {},
   "source": [
    "## Warmteproductie "
   ]
  },
  {
   "cell_type": "markdown",
   "id": "1da732e3",
   "metadata": {},
   "source": [
    "### Warmteproductie categorie melkvee\n",
    "\n",
    "```\n",
    "=IF(\n",
    "    OR(R4=\"\",Z4=\"\"),\n",
    "    \"\",\n",
    "    (5.6*(IF(AD4=\"\",'Input voor PCO2'!$C$5,AD4))^0.75+22*Z4+1.6*0.00001*(IF(AH4=\"\",'Input voor PCO2'!$D$5,AH4))^3)*R4/1000\n",
    ")\n",
    "```\n"
   ]
  },
  {
   "cell_type": "markdown",
   "id": "c15e8f0c",
   "metadata": {},
   "source": [
    "\n",
    "$$\n",
    "P_{melkvee} = \\frac{5.6 (AD_i)^{0.75} + 22 Z_i + 1.6 \\times 10^{-5} (AH_i)^3}{1000} \\times R_i\n",
    "$$\n",
    "\n",
    "Where:\n",
    "\n",
    "* $AD_i$ is _Gewicht melkvee [kg]_\n",
    "\n",
    "* $AH_i$ is _Drachtdagen melkvee [dagen]_\n",
    "\n",
    "* $Z_i$ is _Melkproductie melkvee [kg/dag]_\n",
    "\n",
    "* $R_i$ is _Aantal melkvee_"
   ]
  },
  {
   "cell_type": "markdown",
   "id": "f3e5613e",
   "metadata": {},
   "source": []
  },
  {
   "cell_type": "markdown",
   "id": "cc2dd792",
   "metadata": {},
   "source": [
    "## Calculatie vergelijking met voorbeeld data\n",
    "\n",
    "### Standaard parameters"
   ]
  },
  {
   "cell_type": "code",
   "execution_count": null,
   "id": "46f0497f",
   "metadata": {},
   "outputs": [],
   "source": [
    "test_parameters ={\n",
    "    'melkvee': {\n",
    "        'drachtdagen': 160,\n",
    "        'gewicht': 650,\n",
    "        'melkproductie': 28\n",
    "    },\n",
    "    'droogstaande koeien': {\n",
    "        'drachtdagen': 220,\n",
    "        'gewicht': 650,\n",
    "        'melkproductie': 28\n",
    "    },\n",
    "    'drachtig jongvee': {\n",
    "        'drachtdagen': 140,\n",
    "        'gewicht': 400,\n",
    "        'energievoeding': 10.0,\n",
    "        'gewichtstoename': 0.6\n",
    "    },\n",
    "    'niet drachtig jongvee': {\n",
    "        'drachtdagen': 0,\n",
    "        'gewicht': 250,\n",
    "        'energievoeding': 10.0,\n",
    "        'gewichtstoename': 0.6\n",
    "    }\n",
    "}"
   ]
  },
  {
   "cell_type": "code",
   "execution_count": null,
   "id": "c7cd3f88",
   "metadata": {},
   "outputs": [],
   "source": [
    "bezetting = {\n",
    "    'melkvee': dict(aantal=130),\n",
    "    'droogstaande koeien': dict(aantal=6),\n",
    "    'drachtig jongvee': dict(aantal=0),\n",
    "    'niet drachtig jongvee': dict(aantal=0)\n",
    "}"
   ]
  },
  {
   "cell_type": "markdown",
   "id": "7c2b4499",
   "metadata": {},
   "source": [
    "### Parameters importeren"
   ]
  },
  {
   "cell_type": "code",
   "execution_count": null,
   "id": "6455fae7",
   "metadata": {},
   "outputs": [],
   "source": [
    "test_data_filename = os.path.join(os.getcwd(), '..', '..', 'data', 'massabalans', 'Testdata0.xlsx')\n"
   ]
  },
  {
   "cell_type": "code",
   "execution_count": null,
   "id": "6fc68952",
   "metadata": {},
   "outputs": [
    {
     "name": "stderr",
     "output_type": "stream",
     "text": [
      "/tmp/ipykernel_17721/456096915.py:1: UserWarning: Could not infer format, so each element will be parsed individually, falling back to `dateutil`. To ensure parsing is consistent and as-expected, please specify a format.\n",
      "  test_productiegegevens = pd.read_excel(test_data_filename, sheet_name='Bedrijfsproductiegegevens', index_col=0, parse_dates=True)\n"
     ]
    }
   ],
   "source": [
    "test_productiegegevens = pd.read_excel(test_data_filename, sheet_name='Bedrijfsproductiegegevens', index_col=0, parse_dates=True)"
   ]
  },
  {
   "cell_type": "code",
   "execution_count": null,
   "id": "bd71a283",
   "metadata": {},
   "outputs": [
    {
     "data": {
      "application/vnd.microsoft.datawrangler.viewer.v0+json": {
       "columns": [
        {
         "name": "Parameter",
         "rawType": "object",
         "type": "unknown"
        },
        {
         "name": "Waarde",
         "rawType": "float64",
         "type": "float"
        },
        {
         "name": "Naam parameter in WLR rapport",
         "rawType": "object",
         "type": "unknown"
        },
        {
         "name": "Hoe vaak deze waarde verandert",
         "rawType": "object",
         "type": "unknown"
        }
       ],
       "ref": "36e83148-b13d-414b-9d3f-af223115a9e1",
       "rows": [
        [
         "Aantal dierplaatsen (=aantal ligboxen)",
         "170.0",
         "-",
         "zelden"
        ],
        [
         "Aantal melkgevende koeien",
         "130.0",
         "-",
         "elke 3-7 dagen"
        ],
        [
         "Aantal droogstaande koeien",
         "6.0",
         "-",
         "elke 3-7 dagen"
        ],
        [
         "Aantal drachtige pinken",
         "0.0",
         "-",
         "elke 3-7 dagen"
        ],
        [
         "Aantal niet-drachtig jongvee",
         "0.0",
         "-",
         "elke 3-7 dagen"
        ],
        [
         "Melkproductie (kg/koe/dag)",
         "28.0",
         "Y1",
         "elke 3 dagen"
        ],
        [
         "Ureumgetal (mg/100g)",
         "15.0",
         "-",
         "elke 3 dagen"
        ],
        [
         "Mest mest besmeurd oppervlakte (m2)",
         "912.6",
         "-",
         "zelden"
        ],
        [
         "Gewicht melkkoe (kg)",
         "650.0",
         "m",
         "nooit"
        ],
        [
         "Gewicht droogstaande koe (kg)",
         "650.0",
         "m",
         "nooit"
        ],
        [
         "Gewicht drachtige pink (kg)",
         "400.0",
         "m",
         "nooit"
        ],
        [
         "Gewicht niet-drachtig jongvee (kg)",
         "250.0",
         "m",
         "nooit"
        ],
        [
         "Dagen in dracht melkkoe",
         "160.0",
         "p",
         "nooit"
        ],
        [
         "Dagen in dracht droogstaande koe",
         "220.0",
         "p",
         "nooit"
        ],
        [
         "Dagen in dracht drachtige pink",
         "140.0",
         "p",
         "nooit"
        ],
        [
         "Energiewaarde voer drachtige pink (MJ/kg DS)",
         "10.0",
         "M",
         "nooit"
        ],
        [
         "Energiewaarde voer niet-drachtig jongevee (MJ/kg DS)",
         "10.0",
         "M",
         "nooit"
        ],
        [
         "Gewichtstoename drachtige pink (kg/dag)",
         "0.6",
         "Y2",
         "nooit"
        ],
        [
         "Gewichtstoename niet-drachtig jongvee (kg/dag)",
         "0.6",
         "Y2",
         "nooit"
        ],
        [
         null,
         null,
         null,
         null
        ],
        [
         "PCO2 berekening",
         null,
         null,
         null
        ],
        [
         "PCO2 melkvee",
         "182.31625251067638",
         null,
         null
        ],
        [
         "PCO2 droogstaande koe",
         "5.347588269723524",
         null,
         null
        ],
        [
         "PCO2 drachtige pink",
         "0.0",
         null,
         null
        ],
        [
         "PCO2 niet-drachtig jongee",
         "0.0",
         null,
         null
        ],
        [
         null,
         null,
         null,
         null
        ],
        [
         "PCO2 totaal",
         "187.6638407803999",
         null,
         null
        ],
        [
         null,
         null,
         null,
         null
        ],
        [
         "Totaal aantal vee",
         "136.0",
         null,
         null
        ]
       ],
       "shape": {
        "columns": 3,
        "rows": 29
       }
      },
      "text/html": [
       "<div>\n",
       "<style scoped>\n",
       "    .dataframe tbody tr th:only-of-type {\n",
       "        vertical-align: middle;\n",
       "    }\n",
       "\n",
       "    .dataframe tbody tr th {\n",
       "        vertical-align: top;\n",
       "    }\n",
       "\n",
       "    .dataframe thead th {\n",
       "        text-align: right;\n",
       "    }\n",
       "</style>\n",
       "<table border=\"1\" class=\"dataframe\">\n",
       "  <thead>\n",
       "    <tr style=\"text-align: right;\">\n",
       "      <th></th>\n",
       "      <th>Waarde</th>\n",
       "      <th>Naam parameter in WLR rapport</th>\n",
       "      <th>Hoe vaak deze waarde verandert</th>\n",
       "    </tr>\n",
       "    <tr>\n",
       "      <th>Parameter</th>\n",
       "      <th></th>\n",
       "      <th></th>\n",
       "      <th></th>\n",
       "    </tr>\n",
       "  </thead>\n",
       "  <tbody>\n",
       "    <tr>\n",
       "      <th>Aantal dierplaatsen (=aantal ligboxen)</th>\n",
       "      <td>170.000000</td>\n",
       "      <td>-</td>\n",
       "      <td>zelden</td>\n",
       "    </tr>\n",
       "    <tr>\n",
       "      <th>Aantal melkgevende koeien</th>\n",
       "      <td>130.000000</td>\n",
       "      <td>-</td>\n",
       "      <td>elke 3-7 dagen</td>\n",
       "    </tr>\n",
       "    <tr>\n",
       "      <th>Aantal droogstaande koeien</th>\n",
       "      <td>6.000000</td>\n",
       "      <td>-</td>\n",
       "      <td>elke 3-7 dagen</td>\n",
       "    </tr>\n",
       "    <tr>\n",
       "      <th>Aantal drachtige pinken</th>\n",
       "      <td>0.000000</td>\n",
       "      <td>-</td>\n",
       "      <td>elke 3-7 dagen</td>\n",
       "    </tr>\n",
       "    <tr>\n",
       "      <th>Aantal niet-drachtig jongvee</th>\n",
       "      <td>0.000000</td>\n",
       "      <td>-</td>\n",
       "      <td>elke 3-7 dagen</td>\n",
       "    </tr>\n",
       "    <tr>\n",
       "      <th>Melkproductie (kg/koe/dag)</th>\n",
       "      <td>28.000000</td>\n",
       "      <td>Y1</td>\n",
       "      <td>elke 3 dagen</td>\n",
       "    </tr>\n",
       "    <tr>\n",
       "      <th>Ureumgetal (mg/100g)</th>\n",
       "      <td>15.000000</td>\n",
       "      <td>-</td>\n",
       "      <td>elke 3 dagen</td>\n",
       "    </tr>\n",
       "    <tr>\n",
       "      <th>Mest mest besmeurd oppervlakte (m2)</th>\n",
       "      <td>912.600000</td>\n",
       "      <td>-</td>\n",
       "      <td>zelden</td>\n",
       "    </tr>\n",
       "    <tr>\n",
       "      <th>Gewicht melkkoe (kg)</th>\n",
       "      <td>650.000000</td>\n",
       "      <td>m</td>\n",
       "      <td>nooit</td>\n",
       "    </tr>\n",
       "    <tr>\n",
       "      <th>Gewicht droogstaande koe (kg)</th>\n",
       "      <td>650.000000</td>\n",
       "      <td>m</td>\n",
       "      <td>nooit</td>\n",
       "    </tr>\n",
       "    <tr>\n",
       "      <th>Gewicht drachtige pink (kg)</th>\n",
       "      <td>400.000000</td>\n",
       "      <td>m</td>\n",
       "      <td>nooit</td>\n",
       "    </tr>\n",
       "    <tr>\n",
       "      <th>Gewicht niet-drachtig jongvee (kg)</th>\n",
       "      <td>250.000000</td>\n",
       "      <td>m</td>\n",
       "      <td>nooit</td>\n",
       "    </tr>\n",
       "    <tr>\n",
       "      <th>Dagen in dracht melkkoe</th>\n",
       "      <td>160.000000</td>\n",
       "      <td>p</td>\n",
       "      <td>nooit</td>\n",
       "    </tr>\n",
       "    <tr>\n",
       "      <th>Dagen in dracht droogstaande koe</th>\n",
       "      <td>220.000000</td>\n",
       "      <td>p</td>\n",
       "      <td>nooit</td>\n",
       "    </tr>\n",
       "    <tr>\n",
       "      <th>Dagen in dracht drachtige pink</th>\n",
       "      <td>140.000000</td>\n",
       "      <td>p</td>\n",
       "      <td>nooit</td>\n",
       "    </tr>\n",
       "    <tr>\n",
       "      <th>Energiewaarde voer drachtige pink (MJ/kg DS)</th>\n",
       "      <td>10.000000</td>\n",
       "      <td>M</td>\n",
       "      <td>nooit</td>\n",
       "    </tr>\n",
       "    <tr>\n",
       "      <th>Energiewaarde voer niet-drachtig jongevee (MJ/kg DS)</th>\n",
       "      <td>10.000000</td>\n",
       "      <td>M</td>\n",
       "      <td>nooit</td>\n",
       "    </tr>\n",
       "    <tr>\n",
       "      <th>Gewichtstoename drachtige pink (kg/dag)</th>\n",
       "      <td>0.600000</td>\n",
       "      <td>Y2</td>\n",
       "      <td>nooit</td>\n",
       "    </tr>\n",
       "    <tr>\n",
       "      <th>Gewichtstoename niet-drachtig jongvee (kg/dag)</th>\n",
       "      <td>0.600000</td>\n",
       "      <td>Y2</td>\n",
       "      <td>nooit</td>\n",
       "    </tr>\n",
       "    <tr>\n",
       "      <th>NaN</th>\n",
       "      <td>NaN</td>\n",
       "      <td>NaN</td>\n",
       "      <td>NaN</td>\n",
       "    </tr>\n",
       "    <tr>\n",
       "      <th>PCO2 berekening</th>\n",
       "      <td>NaN</td>\n",
       "      <td>NaN</td>\n",
       "      <td>NaN</td>\n",
       "    </tr>\n",
       "    <tr>\n",
       "      <th>PCO2 melkvee</th>\n",
       "      <td>182.316253</td>\n",
       "      <td>NaN</td>\n",
       "      <td>NaN</td>\n",
       "    </tr>\n",
       "    <tr>\n",
       "      <th>PCO2 droogstaande koe</th>\n",
       "      <td>5.347588</td>\n",
       "      <td>NaN</td>\n",
       "      <td>NaN</td>\n",
       "    </tr>\n",
       "    <tr>\n",
       "      <th>PCO2 drachtige pink</th>\n",
       "      <td>0.000000</td>\n",
       "      <td>NaN</td>\n",
       "      <td>NaN</td>\n",
       "    </tr>\n",
       "    <tr>\n",
       "      <th>PCO2 niet-drachtig jongee</th>\n",
       "      <td>0.000000</td>\n",
       "      <td>NaN</td>\n",
       "      <td>NaN</td>\n",
       "    </tr>\n",
       "    <tr>\n",
       "      <th>NaN</th>\n",
       "      <td>NaN</td>\n",
       "      <td>NaN</td>\n",
       "      <td>NaN</td>\n",
       "    </tr>\n",
       "    <tr>\n",
       "      <th>PCO2 totaal</th>\n",
       "      <td>187.663841</td>\n",
       "      <td>NaN</td>\n",
       "      <td>NaN</td>\n",
       "    </tr>\n",
       "    <tr>\n",
       "      <th>NaN</th>\n",
       "      <td>NaN</td>\n",
       "      <td>NaN</td>\n",
       "      <td>NaN</td>\n",
       "    </tr>\n",
       "    <tr>\n",
       "      <th>Totaal aantal vee</th>\n",
       "      <td>136.000000</td>\n",
       "      <td>NaN</td>\n",
       "      <td>NaN</td>\n",
       "    </tr>\n",
       "  </tbody>\n",
       "</table>\n",
       "</div>"
      ],
      "text/plain": [
       "                                                        Waarde  \\\n",
       "Parameter                                                        \n",
       "Aantal dierplaatsen (=aantal ligboxen)              170.000000   \n",
       "Aantal melkgevende koeien                           130.000000   \n",
       "Aantal droogstaande koeien                            6.000000   \n",
       "Aantal drachtige pinken                               0.000000   \n",
       "Aantal niet-drachtig jongvee                          0.000000   \n",
       "Melkproductie (kg/koe/dag)                           28.000000   \n",
       "Ureumgetal (mg/100g)                                 15.000000   \n",
       "Mest mest besmeurd oppervlakte (m2)                 912.600000   \n",
       "Gewicht melkkoe (kg)                                650.000000   \n",
       "Gewicht droogstaande koe (kg)                       650.000000   \n",
       "Gewicht drachtige pink (kg)                         400.000000   \n",
       "Gewicht niet-drachtig jongvee (kg)                  250.000000   \n",
       "Dagen in dracht melkkoe                             160.000000   \n",
       "Dagen in dracht droogstaande koe                    220.000000   \n",
       "Dagen in dracht drachtige pink                      140.000000   \n",
       "Energiewaarde voer drachtige pink (MJ/kg DS)         10.000000   \n",
       "Energiewaarde voer niet-drachtig jongevee (MJ/k...   10.000000   \n",
       "Gewichtstoename drachtige pink (kg/dag)               0.600000   \n",
       "Gewichtstoename niet-drachtig jongvee (kg/dag)        0.600000   \n",
       "NaN                                                        NaN   \n",
       "PCO2 berekening                                            NaN   \n",
       "PCO2 melkvee                                        182.316253   \n",
       "PCO2 droogstaande koe                                 5.347588   \n",
       "PCO2 drachtige pink                                   0.000000   \n",
       "PCO2 niet-drachtig jongee                             0.000000   \n",
       "NaN                                                        NaN   \n",
       "PCO2 totaal                                         187.663841   \n",
       "NaN                                                        NaN   \n",
       "Totaal aantal vee                                   136.000000   \n",
       "\n",
       "                                                   Naam parameter in WLR rapport  \\\n",
       "Parameter                                                                          \n",
       "Aantal dierplaatsen (=aantal ligboxen)                                         -   \n",
       "Aantal melkgevende koeien                                                      -   \n",
       "Aantal droogstaande koeien                                                     -   \n",
       "Aantal drachtige pinken                                                        -   \n",
       "Aantal niet-drachtig jongvee                                                   -   \n",
       "Melkproductie (kg/koe/dag)                                                    Y1   \n",
       "Ureumgetal (mg/100g)                                                           -   \n",
       "Mest mest besmeurd oppervlakte (m2)                                            -   \n",
       "Gewicht melkkoe (kg)                                                           m   \n",
       "Gewicht droogstaande koe (kg)                                                  m   \n",
       "Gewicht drachtige pink (kg)                                                    m   \n",
       "Gewicht niet-drachtig jongvee (kg)                                             m   \n",
       "Dagen in dracht melkkoe                                                        p   \n",
       "Dagen in dracht droogstaande koe                                               p   \n",
       "Dagen in dracht drachtige pink                                                 p   \n",
       "Energiewaarde voer drachtige pink (MJ/kg DS)                                   M   \n",
       "Energiewaarde voer niet-drachtig jongevee (MJ/k...                             M   \n",
       "Gewichtstoename drachtige pink (kg/dag)                                       Y2   \n",
       "Gewichtstoename niet-drachtig jongvee (kg/dag)                                Y2   \n",
       "NaN                                                                          NaN   \n",
       "PCO2 berekening                                                              NaN   \n",
       "PCO2 melkvee                                                                 NaN   \n",
       "PCO2 droogstaande koe                                                        NaN   \n",
       "PCO2 drachtige pink                                                          NaN   \n",
       "PCO2 niet-drachtig jongee                                                    NaN   \n",
       "NaN                                                                          NaN   \n",
       "PCO2 totaal                                                                  NaN   \n",
       "NaN                                                                          NaN   \n",
       "Totaal aantal vee                                                            NaN   \n",
       "\n",
       "                                                   Hoe vaak deze waarde verandert  \n",
       "Parameter                                                                          \n",
       "Aantal dierplaatsen (=aantal ligboxen)                                     zelden  \n",
       "Aantal melkgevende koeien                                          elke 3-7 dagen  \n",
       "Aantal droogstaande koeien                                         elke 3-7 dagen  \n",
       "Aantal drachtige pinken                                            elke 3-7 dagen  \n",
       "Aantal niet-drachtig jongvee                                       elke 3-7 dagen  \n",
       "Melkproductie (kg/koe/dag)                                           elke 3 dagen  \n",
       "Ureumgetal (mg/100g)                                                 elke 3 dagen  \n",
       "Mest mest besmeurd oppervlakte (m2)                                        zelden  \n",
       "Gewicht melkkoe (kg)                                                        nooit  \n",
       "Gewicht droogstaande koe (kg)                                               nooit  \n",
       "Gewicht drachtige pink (kg)                                                 nooit  \n",
       "Gewicht niet-drachtig jongvee (kg)                                          nooit  \n",
       "Dagen in dracht melkkoe                                                     nooit  \n",
       "Dagen in dracht droogstaande koe                                            nooit  \n",
       "Dagen in dracht drachtige pink                                              nooit  \n",
       "Energiewaarde voer drachtige pink (MJ/kg DS)                                nooit  \n",
       "Energiewaarde voer niet-drachtig jongevee (MJ/k...                          nooit  \n",
       "Gewichtstoename drachtige pink (kg/dag)                                     nooit  \n",
       "Gewichtstoename niet-drachtig jongvee (kg/dag)                              nooit  \n",
       "NaN                                                                           NaN  \n",
       "PCO2 berekening                                                               NaN  \n",
       "PCO2 melkvee                                                                  NaN  \n",
       "PCO2 droogstaande koe                                                         NaN  \n",
       "PCO2 drachtige pink                                                           NaN  \n",
       "PCO2 niet-drachtig jongee                                                     NaN  \n",
       "NaN                                                                           NaN  \n",
       "PCO2 totaal                                                                   NaN  \n",
       "NaN                                                                           NaN  \n",
       "Totaal aantal vee                                                             NaN  "
      ]
     },
     "execution_count": null,
     "metadata": {},
     "output_type": "execute_result"
    }
   ],
   "source": [
    "test_productiegegevens"
   ]
  },
  {
   "cell_type": "markdown",
   "id": "3845a799",
   "metadata": {},
   "source": [
    "### Data importeren"
   ]
  },
  {
   "cell_type": "code",
   "execution_count": null,
   "id": "d5abf06b",
   "metadata": {},
   "outputs": [],
   "source": [
    "test_data_filename = os.path.join(os.getcwd(), '..', '..', 'data', 'massabalans', 'Testdata0.xlsx')\n",
    "test_dataframe = pd.read_excel(test_data_filename, sheet_name='Ruwe Data (CARS)', index_col=0, parse_dates=True)"
   ]
  },
  {
   "cell_type": "code",
   "execution_count": null,
   "id": "fefe332d",
   "metadata": {},
   "outputs": [],
   "source": [
    "fmap = create_pco2_function_mapping(test_parameters)"
   ]
  },
  {
   "cell_type": "code",
   "execution_count": null,
   "id": "55ffc4b2",
   "metadata": {},
   "outputs": [],
   "source": [
    "data = test_dataframe[['NH3 concentratie stal (ppm)',\n",
    " 'NH3 concentratie buiten (ppm)',\n",
    " 'CO2 concentratie stal (ppm)',\n",
    " 'CO2 concentratie buiten1 (ppm)',\n",
    " 'CO2 concentratie buiten2 (ppm)',\n",
    " 'CO2 concentratie buiten3 (ppm)',\n",
    " 'Temperatuur stal ©']].dropna().copy() #resample_data(test_dataframe, **dict(interval='7min', method='linear' ))\n",
    "columnmapping = extract_column_names(data)\n",
    "\n",
    "\n",
    "# Bereken de CO2 productie -------------------------------------\n",
    "temperatuur = data[columnmapping['stal']['temp']].mean(axis=1)\n"
   ]
  },
  {
   "cell_type": "code",
   "execution_count": null,
   "id": "505131f7",
   "metadata": {},
   "outputs": [
    {
     "data": {
      "text/plain": [
       "{'stal': {'nh3': ['NH3 concentratie stal (ppm)'],\n",
       "  'co2': ['CO2 concentratie stal (ppm)'],\n",
       "  'temp': ['Temperatuur stal ©']},\n",
       " 'buiten': {'nh3': ['NH3 concentratie buiten (ppm)'],\n",
       "  'co2': ['CO2 concentratie buiten1 (ppm)',\n",
       "   'CO2 concentratie buiten2 (ppm)',\n",
       "   'CO2 concentratie buiten3 (ppm)'],\n",
       "  'temp': []}}"
      ]
     },
     "execution_count": null,
     "metadata": {},
     "output_type": "execute_result"
    }
   ],
   "source": [
    "columnmapping"
   ]
  },
  {
   "cell_type": "code",
   "execution_count": null,
   "id": "b886b76f",
   "metadata": {},
   "outputs": [],
   "source": []
  },
  {
   "cell_type": "code",
   "execution_count": null,
   "id": "e1f429e8",
   "metadata": {},
   "outputs": [
    {
     "name": "stdout",
     "output_type": "stream",
     "text": [
      "<class 'pandas.core.frame.DataFrame'>\n",
      "DatetimeIndex: 5728 entries, 2025-08-19 00:00:00 to 2025-08-22 23:59:00\n",
      "Data columns (total 7 columns):\n",
      " #   Column                          Non-Null Count  Dtype  \n",
      "---  ------                          --------------  -----  \n",
      " 0   NH3 concentratie stal (ppm)     5728 non-null   float64\n",
      " 1   NH3 concentratie buiten (ppm)   5728 non-null   float64\n",
      " 2   CO2 concentratie stal (ppm)     5728 non-null   float64\n",
      " 3   CO2 concentratie buiten1 (ppm)  5728 non-null   float64\n",
      " 4   CO2 concentratie buiten2 (ppm)  5728 non-null   float64\n",
      " 5   CO2 concentratie buiten3 (ppm)  5728 non-null   float64\n",
      " 6   Temperatuur stal ©              5728 non-null   float64\n",
      "dtypes: float64(7)\n",
      "memory usage: 358.0 KB\n"
     ]
    }
   ],
   "source": [
    "data.info()"
   ]
  },
  {
   "cell_type": "code",
   "execution_count": null,
   "id": "fa106272",
   "metadata": {},
   "outputs": [
    {
     "data": {
      "text/plain": [
       "{'melkvee': {'aantal': 130},\n",
       " 'droogstaande koeien': {'aantal': 6},\n",
       " 'drachtig jongvee': {'aantal': 0},\n",
       " 'niet drachtig jongvee': {'aantal': 0}}"
      ]
     },
     "execution_count": null,
     "metadata": {},
     "output_type": "execute_result"
    }
   ],
   "source": [
    "bezetting"
   ]
  },
  {
   "cell_type": "code",
   "execution_count": null,
   "id": "db8d0754",
   "metadata": {},
   "outputs": [
    {
     "data": {
      "text/plain": [
       "np.float64(36.46325050213528)"
      ]
     },
     "execution_count": null,
     "metadata": {},
     "output_type": "execute_result"
    }
   ],
   "source": [
    "fmap.get('melkvee')(**bezetting['melkvee'])"
   ]
  },
  {
   "cell_type": "code",
   "execution_count": null,
   "id": "6a83d127",
   "metadata": {},
   "outputs": [
    {
     "data": {
      "application/vnd.microsoft.datawrangler.viewer.v0+json": {
       "columns": [
        {
         "name": "Tijd",
         "rawType": "datetime64[ns]",
         "type": "datetime"
        },
        {
         "name": "0",
         "rawType": "float64",
         "type": "float"
        }
       ],
       "ref": "cace40bf-d38c-415d-bb2a-c08b70e6b7ab",
       "rows": [
        [
         "2025-08-19 00:00:00",
         "0.0"
        ],
        [
         "2025-08-19 00:01:00",
         "0.0"
        ],
        [
         "2025-08-19 00:02:00",
         "0.0"
        ],
        [
         "2025-08-19 00:03:00",
         "0.0"
        ],
        [
         "2025-08-19 00:04:00",
         "0.0"
        ],
        [
         "2025-08-19 00:05:00",
         "0.0"
        ],
        [
         "2025-08-19 00:06:00",
         "0.0"
        ],
        [
         "2025-08-19 00:07:00",
         "0.0"
        ],
        [
         "2025-08-19 00:08:00",
         "0.0"
        ],
        [
         "2025-08-19 00:09:00",
         "0.0"
        ],
        [
         "2025-08-19 00:10:00",
         "0.0"
        ],
        [
         "2025-08-19 00:11:00",
         "0.0"
        ],
        [
         "2025-08-19 00:12:00",
         "0.0"
        ],
        [
         "2025-08-19 00:13:00",
         "0.0"
        ],
        [
         "2025-08-19 00:14:00",
         "0.0"
        ],
        [
         "2025-08-19 00:15:00",
         "0.0"
        ],
        [
         "2025-08-19 00:16:00",
         "0.0"
        ],
        [
         "2025-08-19 00:17:00",
         "0.0"
        ],
        [
         "2025-08-19 00:18:00",
         "0.0"
        ],
        [
         "2025-08-19 00:19:00",
         "0.0"
        ],
        [
         "2025-08-19 00:20:00",
         "0.0"
        ],
        [
         "2025-08-19 00:21:00",
         "0.0"
        ],
        [
         "2025-08-19 00:22:00",
         "0.0"
        ],
        [
         "2025-08-19 00:23:00",
         "0.0"
        ],
        [
         "2025-08-19 00:24:00",
         "0.0"
        ],
        [
         "2025-08-19 00:25:00",
         "0.0"
        ],
        [
         "2025-08-19 00:26:00",
         "0.0"
        ],
        [
         "2025-08-19 00:27:00",
         "0.0"
        ],
        [
         "2025-08-19 00:28:00",
         "0.0"
        ],
        [
         "2025-08-19 00:29:00",
         "0.0"
        ],
        [
         "2025-08-19 00:30:00",
         "0.0"
        ],
        [
         "2025-08-19 00:31:00",
         "0.0"
        ],
        [
         "2025-08-19 00:32:00",
         "0.0"
        ],
        [
         "2025-08-19 00:33:00",
         "0.0"
        ],
        [
         "2025-08-19 00:34:00",
         "0.0"
        ],
        [
         "2025-08-19 00:35:00",
         "0.0"
        ],
        [
         "2025-08-19 00:36:00",
         "0.0"
        ],
        [
         "2025-08-19 00:37:00",
         "0.0"
        ],
        [
         "2025-08-19 00:38:00",
         "0.0"
        ],
        [
         "2025-08-19 00:39:00",
         "0.0"
        ],
        [
         "2025-08-19 00:40:00",
         "0.0"
        ],
        [
         "2025-08-19 00:41:00",
         "0.0"
        ],
        [
         "2025-08-19 00:42:00",
         "0.0"
        ],
        [
         "2025-08-19 00:43:00",
         "0.0"
        ],
        [
         "2025-08-19 00:44:00",
         "0.0"
        ],
        [
         "2025-08-19 00:45:00",
         "0.0"
        ],
        [
         "2025-08-19 00:46:00",
         "0.0"
        ],
        [
         "2025-08-19 00:47:00",
         "0.0"
        ],
        [
         "2025-08-19 00:48:00",
         "0.0"
        ],
        [
         "2025-08-19 00:49:00",
         "0.0"
        ]
       ],
       "shape": {
        "columns": 1,
        "rows": 5728
       }
      },
      "text/plain": [
       "Tijd\n",
       "2025-08-19 00:00:00    0.0\n",
       "2025-08-19 00:01:00    0.0\n",
       "2025-08-19 00:02:00    0.0\n",
       "2025-08-19 00:03:00    0.0\n",
       "2025-08-19 00:04:00    0.0\n",
       "                      ... \n",
       "2025-08-22 23:55:00    0.0\n",
       "2025-08-22 23:56:00    0.0\n",
       "2025-08-22 23:57:00    0.0\n",
       "2025-08-22 23:58:00    0.0\n",
       "2025-08-22 23:59:00    0.0\n",
       "Length: 5728, dtype: float64"
      ]
     },
     "execution_count": null,
     "metadata": {},
     "output_type": "execute_result"
    }
   ],
   "source": [
    "PCO2_temperatuurcorrectie(\n",
    "    fmap.get('niet drachtig jongvee')(**bezetting['niet drachtig jongvee']),\n",
    "    temperatuur\n",
    ")"
   ]
  },
  {
   "cell_type": "code",
   "execution_count": null,
   "id": "fabcfc55",
   "metadata": {},
   "outputs": [
    {
     "data": {
      "application/vnd.microsoft.datawrangler.viewer.v0+json": {
       "columns": [
        {
         "name": "Tijd",
         "rawType": "datetime64[ns]",
         "type": "datetime"
        },
        {
         "name": "0",
         "rawType": "float64",
         "type": "float"
        }
       ],
       "ref": "2ee3bffa-15a4-42e5-b6a7-7df61a6cf7f2",
       "rows": [
        [
         "2025-08-19 00:00:00",
         "0.0"
        ],
        [
         "2025-08-19 00:01:00",
         "0.0"
        ],
        [
         "2025-08-19 00:02:00",
         "0.0"
        ],
        [
         "2025-08-19 00:03:00",
         "0.0"
        ],
        [
         "2025-08-19 00:04:00",
         "0.0"
        ],
        [
         "2025-08-19 00:05:00",
         "0.0"
        ],
        [
         "2025-08-19 00:06:00",
         "0.0"
        ],
        [
         "2025-08-19 00:07:00",
         "0.0"
        ],
        [
         "2025-08-19 00:08:00",
         "0.0"
        ],
        [
         "2025-08-19 00:09:00",
         "0.0"
        ],
        [
         "2025-08-19 00:10:00",
         "0.0"
        ],
        [
         "2025-08-19 00:11:00",
         "0.0"
        ],
        [
         "2025-08-19 00:12:00",
         "0.0"
        ],
        [
         "2025-08-19 00:13:00",
         "0.0"
        ],
        [
         "2025-08-19 00:14:00",
         "0.0"
        ],
        [
         "2025-08-19 00:15:00",
         "0.0"
        ],
        [
         "2025-08-19 00:16:00",
         "0.0"
        ],
        [
         "2025-08-19 00:17:00",
         "0.0"
        ],
        [
         "2025-08-19 00:18:00",
         "0.0"
        ],
        [
         "2025-08-19 00:19:00",
         "0.0"
        ],
        [
         "2025-08-19 00:20:00",
         "0.0"
        ],
        [
         "2025-08-19 00:21:00",
         "0.0"
        ],
        [
         "2025-08-19 00:22:00",
         "0.0"
        ],
        [
         "2025-08-19 00:23:00",
         "0.0"
        ],
        [
         "2025-08-19 00:24:00",
         "0.0"
        ],
        [
         "2025-08-19 00:25:00",
         "0.0"
        ],
        [
         "2025-08-19 00:26:00",
         "0.0"
        ],
        [
         "2025-08-19 00:27:00",
         "0.0"
        ],
        [
         "2025-08-19 00:28:00",
         "0.0"
        ],
        [
         "2025-08-19 00:29:00",
         "0.0"
        ],
        [
         "2025-08-19 00:30:00",
         "0.0"
        ],
        [
         "2025-08-19 00:31:00",
         "0.0"
        ],
        [
         "2025-08-19 00:32:00",
         "0.0"
        ],
        [
         "2025-08-19 00:33:00",
         "0.0"
        ],
        [
         "2025-08-19 00:34:00",
         "0.0"
        ],
        [
         "2025-08-19 00:35:00",
         "0.0"
        ],
        [
         "2025-08-19 00:36:00",
         "0.0"
        ],
        [
         "2025-08-19 00:37:00",
         "0.0"
        ],
        [
         "2025-08-19 00:38:00",
         "0.0"
        ],
        [
         "2025-08-19 00:39:00",
         "0.0"
        ],
        [
         "2025-08-19 00:40:00",
         "0.0"
        ],
        [
         "2025-08-19 00:41:00",
         "0.0"
        ],
        [
         "2025-08-19 00:42:00",
         "0.0"
        ],
        [
         "2025-08-19 00:43:00",
         "0.0"
        ],
        [
         "2025-08-19 00:44:00",
         "0.0"
        ],
        [
         "2025-08-19 00:45:00",
         "0.0"
        ],
        [
         "2025-08-19 00:46:00",
         "0.0"
        ],
        [
         "2025-08-19 00:47:00",
         "0.0"
        ],
        [
         "2025-08-19 00:48:00",
         "0.0"
        ],
        [
         "2025-08-19 00:49:00",
         "0.0"
        ]
       ],
       "shape": {
        "columns": 1,
        "rows": 5728
       }
      },
      "text/plain": [
       "Tijd\n",
       "2025-08-19 00:00:00    0.0\n",
       "2025-08-19 00:01:00    0.0\n",
       "2025-08-19 00:02:00    0.0\n",
       "2025-08-19 00:03:00    0.0\n",
       "2025-08-19 00:04:00    0.0\n",
       "                      ... \n",
       "2025-08-22 23:55:00    0.0\n",
       "2025-08-22 23:56:00    0.0\n",
       "2025-08-22 23:57:00    0.0\n",
       "2025-08-22 23:58:00    0.0\n",
       "2025-08-22 23:59:00    0.0\n",
       "Length: 5728, dtype: float64"
      ]
     },
     "execution_count": null,
     "metadata": {},
     "output_type": "execute_result"
    }
   ],
   "source": [
    "PCO2_temperatuurcorrectie(\n",
    "    fmap.get('drachtig jongvee')(**bezetting['drachtig jongvee']),\n",
    "    temperatuur\n",
    ")"
   ]
  },
  {
   "cell_type": "code",
   "execution_count": null,
   "id": "4592c678",
   "metadata": {},
   "outputs": [
    {
     "data": {
      "application/vnd.microsoft.datawrangler.viewer.v0+json": {
       "columns": [
        {
         "name": "Tijd",
         "rawType": "datetime64[ns]",
         "type": "datetime"
        },
        {
         "name": "0",
         "rawType": "float64",
         "type": "float"
        }
       ],
       "ref": "be8e0d60-cf2e-45d5-bbb9-4e06bc898554",
       "rows": [
        [
         "2025-08-19 00:00:00",
         "1.0639561621441929"
        ],
        [
         "2025-08-19 00:01:00",
         "1.0635283550826151"
        ],
        [
         "2025-08-19 00:02:00",
         "1.0635283550826151"
        ],
        [
         "2025-08-19 00:03:00",
         "1.0639561621441929"
        ],
        [
         "2025-08-19 00:04:00",
         "1.0639561621441929"
        ],
        [
         "2025-08-19 00:05:00",
         "1.0639561621441929"
        ],
        [
         "2025-08-19 00:06:00",
         "1.0639561621441929"
        ],
        [
         "2025-08-19 00:07:00",
         "1.0639561621441929"
        ],
        [
         "2025-08-19 00:08:00",
         "1.0643839692057708"
        ],
        [
         "2025-08-19 00:09:00",
         "1.0643839692057708"
        ],
        [
         "2025-08-19 00:10:00",
         "1.0643839692057708"
        ],
        [
         "2025-08-19 00:11:00",
         "1.0643839692057708"
        ],
        [
         "2025-08-19 00:12:00",
         "1.0643839692057708"
        ],
        [
         "2025-08-19 00:13:00",
         "1.0643839692057708"
        ],
        [
         "2025-08-19 00:14:00",
         "1.0643839692057708"
        ],
        [
         "2025-08-19 00:15:00",
         "1.0643839692057708"
        ],
        [
         "2025-08-19 00:16:00",
         "1.0643839692057708"
        ],
        [
         "2025-08-19 00:17:00",
         "1.0639561621441929"
        ],
        [
         "2025-08-19 00:18:00",
         "1.0639561621441929"
        ],
        [
         "2025-08-19 00:19:00",
         "1.0639561621441929"
        ],
        [
         "2025-08-19 00:20:00",
         "1.0643839692057708"
        ],
        [
         "2025-08-19 00:21:00",
         "1.0643839692057708"
        ],
        [
         "2025-08-19 00:22:00",
         "1.0648117762673488"
        ],
        [
         "2025-08-19 00:23:00",
         "1.0648117762673488"
        ],
        [
         "2025-08-19 00:24:00",
         "1.0648117762673488"
        ],
        [
         "2025-08-19 00:25:00",
         "1.0648117762673488"
        ],
        [
         "2025-08-19 00:26:00",
         "1.0648117762673488"
        ],
        [
         "2025-08-19 00:27:00",
         "1.0648117762673488"
        ],
        [
         "2025-08-19 00:28:00",
         "1.0648117762673488"
        ],
        [
         "2025-08-19 00:29:00",
         "1.0652395833289265"
        ],
        [
         "2025-08-19 00:30:00",
         "1.0652395833289265"
        ],
        [
         "2025-08-19 00:31:00",
         "1.0656673903905043"
        ],
        [
         "2025-08-19 00:32:00",
         "1.0652395833289265"
        ],
        [
         "2025-08-19 00:33:00",
         "1.0652395833289265"
        ],
        [
         "2025-08-19 00:34:00",
         "1.0648117762673488"
        ],
        [
         "2025-08-19 00:35:00",
         "1.0648117762673488"
        ],
        [
         "2025-08-19 00:36:00",
         "1.0648117762673488"
        ],
        [
         "2025-08-19 00:37:00",
         "1.0648117762673488"
        ],
        [
         "2025-08-19 00:38:00",
         "1.0643839692057708"
        ],
        [
         "2025-08-19 00:39:00",
         "1.0643839692057708"
        ],
        [
         "2025-08-19 00:40:00",
         "1.0643839692057708"
        ],
        [
         "2025-08-19 00:41:00",
         "1.0643839692057708"
        ],
        [
         "2025-08-19 00:42:00",
         "1.0643839692057708"
        ],
        [
         "2025-08-19 00:43:00",
         "1.0648117762673488"
        ],
        [
         "2025-08-19 00:44:00",
         "1.0648117762673488"
        ],
        [
         "2025-08-19 00:45:00",
         "1.0652395833289265"
        ],
        [
         "2025-08-19 00:46:00",
         "1.0652395833289265"
        ],
        [
         "2025-08-19 00:47:00",
         "1.0656673903905043"
        ],
        [
         "2025-08-19 00:48:00",
         "1.0656673903905043"
        ],
        [
         "2025-08-19 00:49:00",
         "1.0656673903905043"
        ]
       ],
       "shape": {
        "columns": 1,
        "rows": 5728
       }
      },
      "text/plain": [
       "Tijd\n",
       "2025-08-19 00:00:00    1.063956\n",
       "2025-08-19 00:01:00    1.063528\n",
       "2025-08-19 00:02:00    1.063528\n",
       "2025-08-19 00:03:00    1.063956\n",
       "2025-08-19 00:04:00    1.063956\n",
       "                         ...   \n",
       "2025-08-22 23:55:00    1.084063\n",
       "2025-08-22 23:56:00    1.084063\n",
       "2025-08-22 23:57:00    1.084063\n",
       "2025-08-22 23:58:00    1.084491\n",
       "2025-08-22 23:59:00    1.084063\n",
       "Length: 5728, dtype: float64"
      ]
     },
     "execution_count": null,
     "metadata": {},
     "output_type": "execute_result"
    }
   ],
   "source": [
    "PCO2_temperatuurcorrectie(\n",
    "    fmap.get('droogstaande koeien')(**bezetting['droogstaande koeien']),\n",
    "    temperatuur\n",
    ")"
   ]
  },
  {
   "cell_type": "code",
   "execution_count": null,
   "id": "c132d34b",
   "metadata": {},
   "outputs": [
    {
     "data": {
      "application/vnd.microsoft.datawrangler.viewer.v0+json": {
       "columns": [
        {
         "name": "Tijd",
         "rawType": "datetime64[ns]",
         "type": "datetime"
        },
        {
         "name": "melkvee",
         "rawType": "float64",
         "type": "float"
        }
       ],
       "ref": "fdf7f80a-dc4f-49a7-8ef8-6651b09376a6",
       "rows": [
        [
         "2025-08-19 00:00:00",
         "36.273641599524176"
        ],
        [
         "2025-08-19 00:01:00",
         "36.259056299323326"
        ],
        [
         "2025-08-19 00:02:00",
         "36.259056299323326"
        ],
        [
         "2025-08-19 00:03:00",
         "36.273641599524176"
        ],
        [
         "2025-08-19 00:04:00",
         "36.273641599524176"
        ],
        [
         "2025-08-19 00:05:00",
         "36.273641599524176"
        ],
        [
         "2025-08-19 00:06:00",
         "36.273641599524176"
        ],
        [
         "2025-08-19 00:07:00",
         "36.273641599524176"
        ],
        [
         "2025-08-19 00:08:00",
         "36.28822689972504"
        ],
        [
         "2025-08-19 00:09:00",
         "36.28822689972504"
        ],
        [
         "2025-08-19 00:10:00",
         "36.28822689972504"
        ],
        [
         "2025-08-19 00:11:00",
         "36.28822689972504"
        ],
        [
         "2025-08-19 00:12:00",
         "36.28822689972504"
        ],
        [
         "2025-08-19 00:13:00",
         "36.28822689972504"
        ],
        [
         "2025-08-19 00:14:00",
         "36.28822689972504"
        ],
        [
         "2025-08-19 00:15:00",
         "36.28822689972504"
        ],
        [
         "2025-08-19 00:16:00",
         "36.28822689972504"
        ],
        [
         "2025-08-19 00:17:00",
         "36.273641599524176"
        ],
        [
         "2025-08-19 00:18:00",
         "36.273641599524176"
        ],
        [
         "2025-08-19 00:19:00",
         "36.273641599524176"
        ],
        [
         "2025-08-19 00:20:00",
         "36.28822689972504"
        ],
        [
         "2025-08-19 00:21:00",
         "36.28822689972504"
        ],
        [
         "2025-08-19 00:22:00",
         "36.30281219992589"
        ],
        [
         "2025-08-19 00:23:00",
         "36.30281219992589"
        ],
        [
         "2025-08-19 00:24:00",
         "36.30281219992589"
        ],
        [
         "2025-08-19 00:25:00",
         "36.30281219992589"
        ],
        [
         "2025-08-19 00:26:00",
         "36.30281219992589"
        ],
        [
         "2025-08-19 00:27:00",
         "36.30281219992589"
        ],
        [
         "2025-08-19 00:28:00",
         "36.30281219992589"
        ],
        [
         "2025-08-19 00:29:00",
         "36.31739750012674"
        ],
        [
         "2025-08-19 00:30:00",
         "36.31739750012674"
        ],
        [
         "2025-08-19 00:31:00",
         "36.33198280032759"
        ],
        [
         "2025-08-19 00:32:00",
         "36.31739750012674"
        ],
        [
         "2025-08-19 00:33:00",
         "36.31739750012674"
        ],
        [
         "2025-08-19 00:34:00",
         "36.30281219992589"
        ],
        [
         "2025-08-19 00:35:00",
         "36.30281219992589"
        ],
        [
         "2025-08-19 00:36:00",
         "36.30281219992589"
        ],
        [
         "2025-08-19 00:37:00",
         "36.30281219992589"
        ],
        [
         "2025-08-19 00:38:00",
         "36.28822689972504"
        ],
        [
         "2025-08-19 00:39:00",
         "36.28822689972504"
        ],
        [
         "2025-08-19 00:40:00",
         "36.28822689972504"
        ],
        [
         "2025-08-19 00:41:00",
         "36.28822689972504"
        ],
        [
         "2025-08-19 00:42:00",
         "36.28822689972504"
        ],
        [
         "2025-08-19 00:43:00",
         "36.30281219992589"
        ],
        [
         "2025-08-19 00:44:00",
         "36.30281219992589"
        ],
        [
         "2025-08-19 00:45:00",
         "36.31739750012674"
        ],
        [
         "2025-08-19 00:46:00",
         "36.31739750012674"
        ],
        [
         "2025-08-19 00:47:00",
         "36.33198280032759"
        ],
        [
         "2025-08-19 00:48:00",
         "36.33198280032759"
        ],
        [
         "2025-08-19 00:49:00",
         "36.33198280032759"
        ]
       ],
       "shape": {
        "columns": 1,
        "rows": 5728
       }
      },
      "text/plain": [
       "Tijd\n",
       "2025-08-19 00:00:00    36.273642\n",
       "2025-08-19 00:01:00    36.259056\n",
       "2025-08-19 00:02:00    36.259056\n",
       "2025-08-19 00:03:00    36.273642\n",
       "2025-08-19 00:04:00    36.273642\n",
       "                         ...    \n",
       "2025-08-22 23:55:00    36.959151\n",
       "2025-08-22 23:56:00    36.959151\n",
       "2025-08-22 23:57:00    36.959151\n",
       "2025-08-22 23:58:00    36.973736\n",
       "2025-08-22 23:59:00    36.959151\n",
       "Name: melkvee, Length: 5728, dtype: float64"
      ]
     },
     "execution_count": null,
     "metadata": {},
     "output_type": "execute_result"
    }
   ],
   "source": [
    "PCO2_temperatuurcorrectie(\n",
    "    fmap.get('melkvee')(**bezetting['melkvee']),\n",
    "    temperatuur\n",
    ").rename('melkvee')"
   ]
  },
  {
   "cell_type": "code",
   "execution_count": null,
   "id": "406d5d83",
   "metadata": {},
   "outputs": [
    {
     "data": {
      "application/vnd.microsoft.datawrangler.viewer.v0+json": {
       "columns": [
        {
         "name": "Tijd",
         "rawType": "datetime64[ns]",
         "type": "datetime"
        },
        {
         "name": "0",
         "rawType": "float64",
         "type": "float"
        }
       ],
       "ref": "8268f905-790a-4afb-b781-fcd926c65dc4",
       "rows": [
        [
         "2025-08-19 00:00:00",
         "186.68798880834186"
        ],
        [
         "2025-08-19 00:01:00",
         "186.6129232720297"
        ],
        [
         "2025-08-19 00:02:00",
         "186.6129232720297"
        ],
        [
         "2025-08-19 00:03:00",
         "186.68798880834186"
        ],
        [
         "2025-08-19 00:04:00",
         "186.68798880834186"
        ],
        [
         "2025-08-19 00:05:00",
         "186.68798880834186"
        ],
        [
         "2025-08-19 00:06:00",
         "186.68798880834186"
        ],
        [
         "2025-08-19 00:07:00",
         "186.68798880834186"
        ],
        [
         "2025-08-19 00:08:00",
         "186.76305434465405"
        ],
        [
         "2025-08-19 00:09:00",
         "186.76305434465405"
        ],
        [
         "2025-08-19 00:10:00",
         "186.76305434465405"
        ],
        [
         "2025-08-19 00:11:00",
         "186.76305434465405"
        ],
        [
         "2025-08-19 00:12:00",
         "186.76305434465405"
        ],
        [
         "2025-08-19 00:13:00",
         "186.76305434465405"
        ],
        [
         "2025-08-19 00:14:00",
         "186.76305434465405"
        ],
        [
         "2025-08-19 00:15:00",
         "186.76305434465405"
        ],
        [
         "2025-08-19 00:16:00",
         "186.76305434465405"
        ],
        [
         "2025-08-19 00:17:00",
         "186.68798880834186"
        ],
        [
         "2025-08-19 00:18:00",
         "186.68798880834186"
        ],
        [
         "2025-08-19 00:19:00",
         "186.68798880834186"
        ],
        [
         "2025-08-19 00:20:00",
         "186.76305434465405"
        ],
        [
         "2025-08-19 00:21:00",
         "186.76305434465405"
        ],
        [
         "2025-08-19 00:22:00",
         "186.8381198809662"
        ],
        [
         "2025-08-19 00:23:00",
         "186.8381198809662"
        ],
        [
         "2025-08-19 00:24:00",
         "186.8381198809662"
        ],
        [
         "2025-08-19 00:25:00",
         "186.8381198809662"
        ],
        [
         "2025-08-19 00:26:00",
         "186.8381198809662"
        ],
        [
         "2025-08-19 00:27:00",
         "186.8381198809662"
        ],
        [
         "2025-08-19 00:28:00",
         "186.8381198809662"
        ],
        [
         "2025-08-19 00:29:00",
         "186.91318541727833"
        ],
        [
         "2025-08-19 00:30:00",
         "186.91318541727833"
        ],
        [
         "2025-08-19 00:31:00",
         "186.98825095359047"
        ],
        [
         "2025-08-19 00:32:00",
         "186.91318541727833"
        ],
        [
         "2025-08-19 00:33:00",
         "186.91318541727833"
        ],
        [
         "2025-08-19 00:34:00",
         "186.8381198809662"
        ],
        [
         "2025-08-19 00:35:00",
         "186.8381198809662"
        ],
        [
         "2025-08-19 00:36:00",
         "186.8381198809662"
        ],
        [
         "2025-08-19 00:37:00",
         "186.8381198809662"
        ],
        [
         "2025-08-19 00:38:00",
         "186.76305434465405"
        ],
        [
         "2025-08-19 00:39:00",
         "186.76305434465405"
        ],
        [
         "2025-08-19 00:40:00",
         "186.76305434465405"
        ],
        [
         "2025-08-19 00:41:00",
         "186.76305434465405"
        ],
        [
         "2025-08-19 00:42:00",
         "186.76305434465405"
        ],
        [
         "2025-08-19 00:43:00",
         "186.8381198809662"
        ],
        [
         "2025-08-19 00:44:00",
         "186.8381198809662"
        ],
        [
         "2025-08-19 00:45:00",
         "186.91318541727833"
        ],
        [
         "2025-08-19 00:46:00",
         "186.91318541727833"
        ],
        [
         "2025-08-19 00:47:00",
         "186.98825095359047"
        ],
        [
         "2025-08-19 00:48:00",
         "186.98825095359047"
        ],
        [
         "2025-08-19 00:49:00",
         "186.98825095359047"
        ]
       ],
       "shape": {
        "columns": 1,
        "rows": 5728
       }
      },
      "text/plain": [
       "Tijd\n",
       "2025-08-19 00:00:00    186.687989\n",
       "2025-08-19 00:01:00    186.612923\n",
       "2025-08-19 00:02:00    186.612923\n",
       "2025-08-19 00:03:00    186.687989\n",
       "2025-08-19 00:04:00    186.687989\n",
       "                          ...    \n",
       "2025-08-22 23:55:00    190.216069\n",
       "2025-08-22 23:56:00    190.216069\n",
       "2025-08-22 23:57:00    190.216069\n",
       "2025-08-22 23:58:00    190.291135\n",
       "2025-08-22 23:59:00    190.216069\n",
       "Length: 5728, dtype: float64"
      ]
     },
     "execution_count": null,
     "metadata": {},
     "output_type": "execute_result"
    }
   ],
   "source": [
    "pd.concat(\n",
    "        [\n",
    "            PCO2_temperatuurcorrectie(\n",
    "                fmap.get(category)(**params)*5,\n",
    "                temperatuur\n",
    "            ).rename(category)\n",
    "            for category, params in bezetting.items()\n",
    "        ], axis=1\n",
    "    ).sum(axis=1)"
   ]
  },
  {
   "cell_type": "code",
   "execution_count": null,
   "id": "c6834698",
   "metadata": {},
   "outputs": [],
   "source": [
    "emissie = calculate_emission(\n",
    "    data=data,\n",
    "    pco2_parameters=test_parameters,\n",
    "    bezetting=bezetting,\n",
    "    interpolate=dict(interval='7min', method='linear')\n",
    ").resample('1h').mean()"
   ]
  },
  {
   "cell_type": "code",
   "execution_count": null,
   "id": "107e75eb",
   "metadata": {},
   "outputs": [
    {
     "data": {
      "application/vnd.microsoft.datawrangler.viewer.v0+json": {
       "columns": [
        {
         "name": "Tijd",
         "rawType": "datetime64[ns]",
         "type": "datetime"
        },
        {
         "name": "0",
         "rawType": "float64",
         "type": "float"
        }
       ],
       "ref": "72b4c384-a122-4310-a463-01d1f15ad072",
       "rows": [
        [
         "2025-08-19 00:00:00",
         "0.42077827005251695"
        ],
        [
         "2025-08-19 01:00:00",
         "0.4281742088703261"
        ],
        [
         "2025-08-19 02:00:00",
         "0.39538663497492"
        ],
        [
         "2025-08-19 03:00:00",
         "0.49685035044814885"
        ],
        [
         "2025-08-19 04:00:00",
         "0.6156907521245484"
        ],
        [
         "2025-08-19 05:00:00",
         "0.5883621417639807"
        ],
        [
         "2025-08-19 06:00:00",
         "0.6048161515752172"
        ],
        [
         "2025-08-19 07:00:00",
         "0.6214191169584247"
        ],
        [
         "2025-08-19 08:00:00",
         "0.9183315476316958"
        ],
        [
         "2025-08-19 09:00:00",
         "1.753910556664534"
        ],
        [
         "2025-08-19 10:00:00",
         "1.887303370185337"
        ],
        [
         "2025-08-19 11:00:00",
         "1.5193237481451474"
        ],
        [
         "2025-08-19 12:00:00",
         "1.816647297800561"
        ],
        [
         "2025-08-19 13:00:00",
         "2.277974149042548"
        ],
        [
         "2025-08-19 14:00:00",
         "2.030773633456906"
        ],
        [
         "2025-08-19 15:00:00",
         "1.1833669186992495"
        ],
        [
         "2025-08-19 16:00:00",
         "0.6870071265184734"
        ],
        [
         "2025-08-19 17:00:00",
         "0.4145563520673295"
        ],
        [
         "2025-08-19 18:00:00",
         "0.6483850347134545"
        ],
        [
         "2025-08-19 19:00:00",
         "0.37576299023331666"
        ],
        [
         "2025-08-19 20:00:00",
         "0.35692717306309646"
        ],
        [
         "2025-08-19 21:00:00",
         "0.42338908489081295"
        ],
        [
         "2025-08-19 22:00:00",
         "0.4065260037700428"
        ],
        [
         "2025-08-19 23:00:00",
         "0.4029534753229682"
        ],
        [
         "2025-08-20 00:00:00",
         "0.46186634002503396"
        ],
        [
         "2025-08-20 01:00:00",
         "0.5071751107528013"
        ],
        [
         "2025-08-20 02:00:00",
         "0.7330479946231092"
        ],
        [
         "2025-08-20 03:00:00",
         "0.6893063800630667"
        ],
        [
         "2025-08-20 04:00:00",
         "0.6979705909369238"
        ],
        [
         "2025-08-20 05:00:00",
         "0.5721658319717896"
        ],
        [
         "2025-08-20 06:00:00",
         "0.5614463075861886"
        ],
        [
         "2025-08-20 07:00:00",
         "0.4950017984917299"
        ],
        [
         "2025-08-20 08:00:00",
         "0.8000049025238172"
        ],
        [
         "2025-08-20 09:00:00",
         "1.580922430035315"
        ],
        [
         "2025-08-20 10:00:00",
         "1.7689703271849153"
        ],
        [
         "2025-08-20 11:00:00",
         "1.6162032370005979"
        ],
        [
         "2025-08-20 12:00:00",
         "1.5529691591116013"
        ],
        [
         "2025-08-20 13:00:00",
         "1.6260103167539464"
        ],
        [
         "2025-08-20 14:00:00",
         "1.5778391444495876"
        ],
        [
         "2025-08-20 15:00:00",
         "1.0779890926580373"
        ],
        [
         "2025-08-20 16:00:00",
         "0.8384385324002037"
        ],
        [
         "2025-08-20 17:00:00",
         "0.7002858351327108"
        ],
        [
         "2025-08-20 18:00:00",
         "0.48267604072405085"
        ],
        [
         "2025-08-20 19:00:00",
         "0.31013132236490193"
        ],
        [
         "2025-08-20 20:00:00",
         "0.31179776246626356"
        ],
        [
         "2025-08-20 21:00:00",
         "0.36119258654066555"
        ],
        [
         "2025-08-20 22:00:00",
         "0.34352846467501685"
        ],
        [
         "2025-08-20 23:00:00",
         "0.3141328221985181"
        ],
        [
         "2025-08-21 00:00:00",
         "0.32855224979605363"
        ],
        [
         "2025-08-21 01:00:00",
         "0.3469440736557719"
        ]
       ],
       "shape": {
        "columns": 1,
        "rows": 96
       }
      },
      "text/plain": [
       "Tijd\n",
       "2025-08-19 00:00:00    0.420778\n",
       "2025-08-19 01:00:00    0.428174\n",
       "2025-08-19 02:00:00    0.395387\n",
       "2025-08-19 03:00:00    0.496850\n",
       "2025-08-19 04:00:00    0.615691\n",
       "                         ...   \n",
       "2025-08-22 19:00:00    0.489988\n",
       "2025-08-22 20:00:00    0.245229\n",
       "2025-08-22 21:00:00    0.267093\n",
       "2025-08-22 22:00:00    0.573332\n",
       "2025-08-22 23:00:00    0.595650\n",
       "Freq: h, Length: 96, dtype: float64"
      ]
     },
     "execution_count": null,
     "metadata": {},
     "output_type": "execute_result"
    }
   ],
   "source": [
    "emissie / emissie.mean()"
   ]
  },
  {
   "cell_type": "code",
   "execution_count": null,
   "id": "7f74af93",
   "metadata": {},
   "outputs": [
    {
     "name": "stdout",
     "output_type": "stream",
     "text": [
      "<class 'pandas.core.frame.DataFrame'>\n",
      "DatetimeIndex: 5760 entries, 2025-08-19 00:00:00 to 2025-08-22 23:59:00\n",
      "Data columns (total 34 columns):\n",
      " #   Column                           Non-Null Count  Dtype  \n",
      "---  ------                           --------------  -----  \n",
      " 0   NH3 concentratie stal (ppm)      5758 non-null   float64\n",
      " 1   NH3 concentratie buiten (ppm)    5758 non-null   float64\n",
      " 2   CO2 concentratie stal (ppm)      5758 non-null   float64\n",
      " 3   CO2 concentratie buiten1 (ppm)   5752 non-null   float64\n",
      " 4   CO2 concentratie buiten2 (ppm)   5750 non-null   float64\n",
      " 5   CO2 concentratie buiten3 (ppm)   5748 non-null   float64\n",
      " 6   Temperatuur stal ©               5752 non-null   float64\n",
      " 7   Temperatuur buiten1 ©            5752 non-null   float64\n",
      " 8   Temperatuur buiten2 ©            5750 non-null   float64\n",
      " 9   Temperatuur buiten3 ©            5748 non-null   float64\n",
      " 10  Luchtvochtigheid stal (%)        5752 non-null   float64\n",
      " 11  Luchtvochtigheid buiten1 (%)     5752 non-null   float64\n",
      " 12  Luchtvochtigheid buiten2 (%)     5750 non-null   float64\n",
      " 13  Luchtvochtigheid buiten3 (%)     5748 non-null   float64\n",
      " 14  Temperatuur meetbuis ©           5758 non-null   float64\n",
      " 15  Luchtvochtigheid meetbuis (%)    5758 non-null   float64\n",
      " 16  Windrichting (graden)            96 non-null     float64\n",
      " 17  Windsnelheid (km/u)              96 non-null     float64\n",
      " 18  NH3 concentratie stal (mg/m3)    5760 non-null   float64\n",
      " 19  NH3 concentratie buiten (mg/m3)  5760 non-null   int64  \n",
      " 20  CO2 concentratie stal (mg/m3)    5760 non-null   float64\n",
      " 21  CO2 concentatie buiten (mg/m3)   5760 non-null   float64\n",
      " 22  CO2 correctie (ppm)              5760 non-null   int64  \n",
      " 23  CO2 correctie (mg/m3)            5760 non-null   float64\n",
      " 24  PCO2 correctie                   5760 non-null   float64\n",
      " 25  Ventilatiedebiet (m3/u)          5760 non-null   float64\n",
      " 26  Ventilatiedebiet (m3/dier/u)     5758 non-null   float64\n",
      " 27  NH3 emissie (kg/u)               5760 non-null   float64\n",
      " 28  NH3 emissie (kg/j)               5760 non-null   float64\n",
      " 29  NH3 emissie (kg/dp/j)            5760 non-null   float64\n",
      " 30  Ventilatiedebiet (m3/u).1        5752 non-null   float64\n",
      " 31  NH3 emissie (kg/u).1             5752 non-null   float64\n",
      " 32  NH3 emissie (kg/j).1             5752 non-null   float64\n",
      " 33  NH3 emissie (kg/dp/j).1          5752 non-null   float64\n",
      "dtypes: float64(32), int64(2)\n",
      "memory usage: 1.5 MB\n"
     ]
    }
   ],
   "source": [
    "test_dataframe.info()"
   ]
  },
  {
   "cell_type": "code",
   "execution_count": null,
   "id": "432e4cdd",
   "metadata": {},
   "outputs": [
    {
     "data": {
      "application/vnd.microsoft.datawrangler.viewer.v0+json": {
       "columns": [
        {
         "name": "Tijd",
         "rawType": "datetime64[ns]",
         "type": "datetime"
        },
        {
         "name": "NH3 concentratie stal (ppm)",
         "rawType": "float64",
         "type": "float"
        },
        {
         "name": "NH3 concentratie buiten (ppm)",
         "rawType": "float64",
         "type": "float"
        },
        {
         "name": "CO2 concentratie stal (ppm)",
         "rawType": "float64",
         "type": "float"
        },
        {
         "name": "CO2 concentratie buiten1 (ppm)",
         "rawType": "float64",
         "type": "float"
        },
        {
         "name": "CO2 concentratie buiten2 (ppm)",
         "rawType": "float64",
         "type": "float"
        },
        {
         "name": "CO2 concentratie buiten3 (ppm)",
         "rawType": "float64",
         "type": "float"
        },
        {
         "name": "Temperatuur stal ©",
         "rawType": "float64",
         "type": "float"
        },
        {
         "name": "Temperatuur buiten1 ©",
         "rawType": "float64",
         "type": "float"
        },
        {
         "name": "Temperatuur buiten2 ©",
         "rawType": "float64",
         "type": "float"
        },
        {
         "name": "Temperatuur buiten3 ©",
         "rawType": "float64",
         "type": "float"
        },
        {
         "name": "Luchtvochtigheid stal (%)",
         "rawType": "float64",
         "type": "float"
        },
        {
         "name": "Luchtvochtigheid buiten1 (%)",
         "rawType": "float64",
         "type": "float"
        },
        {
         "name": "Luchtvochtigheid buiten2 (%)",
         "rawType": "float64",
         "type": "float"
        },
        {
         "name": "Luchtvochtigheid buiten3 (%)",
         "rawType": "float64",
         "type": "float"
        },
        {
         "name": "Temperatuur meetbuis ©",
         "rawType": "float64",
         "type": "float"
        },
        {
         "name": "Luchtvochtigheid meetbuis (%)",
         "rawType": "float64",
         "type": "float"
        },
        {
         "name": "Windrichting (graden)",
         "rawType": "float64",
         "type": "float"
        },
        {
         "name": "Windsnelheid (km/u)",
         "rawType": "float64",
         "type": "float"
        },
        {
         "name": "NH3 concentratie stal (mg/m3)",
         "rawType": "float64",
         "type": "float"
        },
        {
         "name": "NH3 concentratie buiten (mg/m3)",
         "rawType": "int64",
         "type": "integer"
        },
        {
         "name": "CO2 concentratie stal (mg/m3)",
         "rawType": "float64",
         "type": "float"
        },
        {
         "name": "CO2 concentatie buiten (mg/m3)",
         "rawType": "float64",
         "type": "float"
        },
        {
         "name": "CO2 correctie (ppm)",
         "rawType": "int64",
         "type": "integer"
        },
        {
         "name": "CO2 correctie (mg/m3)",
         "rawType": "float64",
         "type": "float"
        },
        {
         "name": "PCO2 correctie",
         "rawType": "float64",
         "type": "float"
        },
        {
         "name": "Ventilatiedebiet (m3/u)",
         "rawType": "float64",
         "type": "float"
        },
        {
         "name": "Ventilatiedebiet (m3/dier/u)",
         "rawType": "float64",
         "type": "float"
        },
        {
         "name": "NH3 emissie (kg/u)",
         "rawType": "float64",
         "type": "float"
        },
        {
         "name": "NH3 emissie (kg/j)",
         "rawType": "float64",
         "type": "float"
        },
        {
         "name": "NH3 emissie (kg/dp/j)",
         "rawType": "float64",
         "type": "float"
        },
        {
         "name": "Ventilatiedebiet (m3/u).1",
         "rawType": "float64",
         "type": "float"
        },
        {
         "name": "NH3 emissie (kg/u).1",
         "rawType": "float64",
         "type": "float"
        },
        {
         "name": "NH3 emissie (kg/j).1",
         "rawType": "float64",
         "type": "float"
        },
        {
         "name": "NH3 emissie (kg/dp/j).1",
         "rawType": "float64",
         "type": "float"
        }
       ],
       "ref": "6329f398-cc0e-4b50-b191-9761dcfe3e03",
       "rows": [
        [
         "2025-08-19 00:00:00",
         "2.9",
         "0.0",
         "896.0",
         "369.0",
         "491.0",
         "452.0",
         "21.3",
         "19.4",
         "19.2",
         "20.3",
         "79.0",
         "81.0",
         "80.0",
         "76.0",
         "31.4",
         "63.0",
         null,
         null,
         "2.0199283",
         "0",
         "1612.8080639999998",
         "664.203321",
         "896",
         "1612.8080639999998",
         "186.68798880834183",
         "70849.33161606902",
         "520.9509677652134",
         "0.14311056996738256",
         "1253.6485929142711",
         "7.374403487731007",
         "74000.0",
         "0.15",
         "1324.09",
         "7.79"
        ],
        [
         "2025-08-19 00:01:00",
         "3.0",
         "0.0",
         "898.0",
         "370.0",
         "494.0",
         "453.0",
         "21.4",
         "19.4",
         "19.3",
         "20.3",
         "78.5",
         "82.0",
         "80.0",
         "76.0",
         "31.4",
         "63.0",
         null,
         null,
         "2.0895810000000004",
         "0",
         "1616.408082",
         "889.204446",
         "898",
         "1616.408082",
         "186.61292327202966",
         "70686.71336061732",
         "519.7552452986567",
         "0.14770561319079212",
         "1293.9011715513388",
         "7.611183362066699",
         "73763.0",
         "0.15",
         "1346.91",
         "7.92"
        ],
        [
         "2025-08-19 00:02:00",
         "3.0",
         "0.0",
         "900.0",
         "370.0",
         "497.0",
         "453.0",
         "21.4",
         "19.4",
         "19.2",
         "20.3",
         "78.5",
         "81.0",
         "80.0",
         "76.0",
         "31.4",
         "63.0",
         null,
         null,
         "2.0895810000000004",
         "0",
         "1620.0081",
         "894.604473",
         "900",
         "1620.0081",
         "186.61292327202966",
         "70419.97104604894",
         "517.7939047503598",
         "0.14714823351837403",
         "1289.0185256209566",
         "7.582461915417391",
         "73464.0",
         "0.15",
         "1341.45",
         "7.89"
        ],
        [
         "2025-08-19 00:03:00",
         "3.0",
         "0.0",
         "908.0",
         "368.0",
         "496.0",
         "455.0",
         "21.3",
         "19.4",
         "19.2",
         "20.3",
         "78.0",
         "81.0",
         "80.0",
         "76.0",
         "31.4",
         "63.0",
         null,
         null,
         "2.0895810000000004",
         "0",
         "1634.408172",
         "892.8044639999999",
         "908",
         "1634.408172",
         "186.68798880834183",
         "69143.69955864512",
         "508.40955557827294",
         "0.14448136086745328",
         "1265.6567211988906",
         "7.445039536464063",
         "72125.0",
         "0.15",
         "1318.32",
         "7.75"
        ],
        [
         "2025-08-19 00:04:00",
         "3.0",
         "0.0",
         "910.0",
         "367.0",
         "494.0",
         "456.0",
         "21.3",
         "19.3",
         "19.2",
         "20.3",
         "78.0",
         "81.0",
         "80.0",
         "76.0",
         "31.4",
         "63.0",
         null,
         null,
         "2.0895810000000004",
         "0",
         "1638.00819",
         "889.204446",
         "910",
         "1638.00819",
         "186.68798880834183",
         "68761.69016881836",
         "505.6006630060173",
         "0.14368312130464966",
         "1258.664142628731",
         "7.403906721345477",
         "71715.0",
         "0.15",
         "1312.79",
         "7.72"
        ],
        [
         "2025-08-19 00:05:00",
         "3.0",
         "0.0",
         "909.0",
         "369.0",
         "493.0",
         "455.0",
         "21.3",
         "19.4",
         "19.2",
         "20.3",
         "78.0",
         "81.0",
         "80.0",
         "76.0",
         "31.3",
         "63.0",
         null,
         null,
         "2.0895810000000004",
         "0",
         "1636.208181",
         "887.4044369999999",
         "909",
         "1636.208181",
         "186.68798880834183",
         "69143.69955864512",
         "508.40955557827294",
         "0.14448136086745328",
         "1265.6567211988906",
         "7.445039536464063",
         "72134.0",
         "0.15",
         "1318.49",
         "7.76"
        ],
        [
         "2025-08-19 00:06:00",
         "3.0",
         "0.0",
         "913.0",
         "372.0",
         "494.0",
         "452.0",
         "21.3",
         "19.4",
         "19.2",
         "20.3",
         "78.0",
         "81.0",
         "80.0",
         "76.0",
         "31.4",
         "63.0",
         null,
         null,
         "2.0895810000000004",
         "0",
         "1643.4082169999997",
         "889.204446",
         "913",
         "1643.4082169999997",
         "186.68798880834183",
         "69015.89235058849",
         "507.4697966955036",
         "0.1442142973538351",
         "1263.3172448195955",
         "7.431277910703503",
         "72047.0",
         "0.15",
         "1321.32",
         "7.77"
        ],
        [
         "2025-08-19 00:07:00",
         "3.1",
         "0.0",
         "916.0",
         "369.0",
         "495.0",
         "451.0",
         "21.3",
         "19.4",
         "19.2",
         "20.3",
         "77.5",
         "81.0",
         "79.0",
         "75.0",
         "31.4",
         "63.0",
         null,
         null,
         "2.1592337000000006",
         "0",
         "1648.8082439999998",
         "891.004455",
         "916",
         "1648.8082439999998",
         "186.68798880834183",
         "68258.86245277582",
         "501.9034003880575",
         "0.14738683613169826",
         "1291.1086845136767",
         "7.59475696772751",
         "71286.0",
         "0.15",
         "1341.78",
         "7.89"
        ],
        [
         "2025-08-19 00:08:00",
         "3.0",
         "0.0",
         "912.0",
         "369.0",
         "495.0",
         "454.0",
         "21.2",
         "19.4",
         "19.2",
         "20.3",
         "78.0",
         "81.0",
         "79.0",
         "75.0",
         "31.4",
         "63.0",
         null,
         null,
         "2.0895810000000004",
         "0",
         "1641.608208",
         "891.004455",
         "912",
         "1641.608208",
         "186.763054344654",
         "68789.33861681548",
         "505.8039604177609",
         "0.1437408949762639",
         "1259.1702399920719",
         "7.406883764659246",
         "71725.0",
         "0.15",
         "1311.9",
         "7.72"
        ],
        [
         "2025-08-19 00:09:00",
         "3.1",
         "0.0",
         "910.0",
         "366.0",
         "495.0",
         "456.0",
         "21.2",
         "19.4",
         "19.2",
         "20.3",
         "78.5",
         "81.0",
         "79.0",
         "75.0",
         "31.3",
         "63.0",
         null,
         null,
         "2.1592337000000006",
         "0",
         "1638.00819",
         "891.004455",
         "910",
         "1638.00819",
         "186.763054344654",
         "68662.88762671103",
         "504.87417372581643",
         "0.14825922090290752",
         "1298.7507751094697",
         "7.6397104418204105",
         "71597.0",
         "0.16",
         "1376.13",
         "8.09"
        ],
        [
         "2025-08-19 00:10:00",
         "3.1",
         "0.0",
         "903.0",
         "366.0",
         "495.0",
         "457.0",
         "21.2",
         "19.4",
         "19.2",
         "20.3",
         "77.5",
         "81.0",
         "79.0",
         "75.0",
         "31.3",
         "63.0",
         null,
         null,
         "2.1592337000000006",
         "0",
         "1625.4081269999997",
         "891.004455",
         "903",
         "1625.4081269999997",
         "186.763054344654",
         "69557.93457901455",
         "511.4554013162834",
         "0.15019183644540354",
         "1315.680487261735",
         "7.739296983892558",
         "72576.0",
         "0.16",
         "1385.62",
         "8.15"
        ],
        [
         "2025-08-19 00:11:00",
         "3.1",
         "0.0",
         "901.0",
         "366.0",
         "494.0",
         "456.0",
         "21.2",
         "19.4",
         "19.3",
         "20.3",
         "78.5",
         "81.0",
         "79.0",
         "75.0",
         "31.3",
         "63.0",
         null,
         null,
         "2.1592337000000006",
         "0",
         "1621.8081089999998",
         "889.204446",
         "901",
         "1621.8081089999998",
         "186.763054344654",
         "69817.96424099215",
         "513.3673841249423",
         "0.15075330125454522",
         "1320.5989189898162",
         "7.768228935234212",
         "72862.0",
         "0.16",
         "1367.46",
         "8.04"
        ],
        [
         "2025-08-19 00:12:00",
         "3.1",
         "0.0",
         "900.0",
         "369.0",
         "495.0",
         "455.0",
         "21.2",
         "19.4",
         "19.3",
         "20.3",
         "78.0",
         "81.0",
         "79.0",
         "75.0",
         "31.3",
         "63.0",
         null,
         null,
         "2.1592337000000006",
         "0",
         "1620.0081",
         "891.004455",
         "900",
         "1620.0081",
         "186.763054344654",
         "70343.89994148928",
         "517.2345583933035",
         "0.15188891934309173",
         "1330.5469334454835",
         "7.826746667326374",
         "73468.0",
         "0.16",
         "1396.36",
         "8.21"
        ],
        [
         "2025-08-19 00:13:00",
         "3.1",
         "0.0",
         "897.0",
         "371.0",
         "495.0",
         "457.0",
         "21.2",
         "19.4",
         "19.3",
         "20.3",
         "77.5",
         "81.0",
         "79.0",
         "75.0",
         "31.4",
         "63.0",
         null,
         null,
         "2.1592337000000006",
         "0",
         "1614.6080729999999",
         "891.004455",
         "897",
         "1614.6080729999999",
         "186.763054344654",
         "71012.56819188366",
         "522.1512367050269",
         "0.15333273036346332",
         "1343.1947179839387",
         "7.901145399905522",
         "74119.0",
         "0.16",
         "1424.6",
         "8.38"
        ],
        [
         "2025-08-19 00:14:00",
         "3.1",
         "0.0",
         "894.0",
         "374.0",
         "494.0",
         "455.0",
         "21.2",
         "19.4",
         "19.3",
         "20.3",
         "78.0",
         "81.0",
         "79.0",
         "75.0",
         "31.3",
         "63.0",
         null,
         null,
         "2.1592337000000006",
         "0",
         "1609.208046",
         "889.204446",
         "894",
         "1609.208046",
         "186.763054344654",
         "71831.94397871308",
         "528.176058667008",
         "0.15510195417534942",
         "1358.693118576061",
         "7.992312462212123",
         "75030.0",
         "0.16",
         "1430.65",
         "8.42"
        ],
        [
         "2025-08-19 00:15:00",
         "3.1",
         "0.0",
         "884.0",
         "377.0",
         "493.0",
         "454.0",
         "21.2",
         "19.4",
         "19.3",
         "20.3",
         "78.0",
         "81.0",
         "79.0",
         "75.0",
         "31.3",
         "63.0",
         null,
         null,
         "2.1592337000000006",
         "0",
         "1591.207956",
         "887.4044369999999",
         "884",
         "1591.207956",
         "186.763054344654",
         "73673.78869611598",
         "541.7190345302646",
         "0.15907892735933274",
         "1393.5314036677548",
         "8.197243550986792",
         "76929.0",
         "0.17",
         "1476.73",
         "8.69"
        ],
        [
         "2025-08-19 00:16:00",
         "3.1",
         "0.0",
         "882.0",
         "377.0",
         "494.0",
         "456.0",
         "21.2",
         "19.4",
         "19.3",
         "20.3",
         "78.0",
         "81.0",
         "79.0",
         "75.0",
         "31.3",
         "63.0",
         null,
         null,
         "2.1592337000000006",
         "0",
         "1587.6079379999999",
         "889.204446",
         "882",
         "1587.6079379999999",
         "186.763054344654",
         "73965.5660770907",
         "543.8644564491963",
         "0.1597089429132311",
         "1399.0503399199042",
         "8.22970788188179",
         "77125.0",
         "0.17",
         "1482.38",
         "8.72"
        ],
        [
         "2025-08-19 00:17:00",
         "3.1",
         "0.0",
         "881.0",
         "377.0",
         "494.0",
         "455.0",
         "21.3",
         "19.4",
         "19.3",
         "20.3",
         "78.5",
         "81.0",
         "79.0",
         "75.0",
         "31.3",
         "63.0",
         null,
         null,
         "2.1592337000000006",
         "0",
         "1585.8079289999998",
         "889.204446",
         "881",
         "1585.8079289999998",
         "186.68798880834183",
         "74082.5352414055",
         "544.7245238338639",
         "0.15996150667468043",
         "1401.2627984702006",
         "8.242722343942356",
         "77264.0",
         "0.17",
         "1484.54",
         "8.73"
        ],
        [
         "2025-08-19 00:18:00",
         "3.1",
         "0.0",
         "885.0",
         "377.0",
         "493.0",
         "455.0",
         "21.3",
         "19.4",
         "19.3",
         "20.3",
         "78.0",
         "81.0",
         "79.0",
         "75.0",
         "31.3",
         "63.0",
         null,
         null,
         "2.1592337000000006",
         "0",
         "1593.007965",
         "887.4044369999999",
         "885",
         "1593.007965",
         "186.68798880834183",
         "73499.20819226057",
         "540.4353543548572",
         "0.15870196725204513",
         "1390.2292331279154",
         "8.177819018399502",
         "76728.0",
         "0.17",
         "1472.85",
         "8.66"
        ],
        [
         "2025-08-19 00:19:00",
         "3.1",
         "0.0",
         "891.0",
         "373.0",
         "493.0",
         "455.0",
         "21.3",
         "19.4",
         "19.3",
         "20.3",
         "78.0",
         "81.0",
         "79.0",
         "75.0",
         "31.3",
         "63.0",
         null,
         null,
         "2.1592337000000006",
         "0",
         "1603.8080189999998",
         "887.4044369999999",
         "891",
         "1603.8080189999998",
         "186.68798880834183",
         "72080.30455920534",
         "530.0022394059216",
         "0.15563822271049987",
         "1363.390830943979",
         "8.019946064376347",
         "75240.0",
         "0.17",
         "1445.67",
         "8.5"
        ],
        [
         "2025-08-19 00:20:00",
         "3.1",
         "0.0",
         "887.0",
         "372.0",
         "493.0",
         "457.0",
         "21.2",
         "19.4",
         "19.3",
         "20.3",
         "77.5",
         "81.0",
         "79.0",
         "75.0",
         "31.3",
         "63.0",
         null,
         null,
         "2.1592337000000006",
         "0",
         "1596.607983",
         "887.4044369999999",
         "887",
         "1596.607983",
         "186.763054344654",
         "72529.34149306953",
         "533.3039815666878",
         "0.15660779839064407",
         "1371.8843139020419",
         "8.06990772883554",
         "75696.0",
         "0.17",
         "1456.77",
         "8.57"
        ],
        [
         "2025-08-19 00:21:00",
         "3.1",
         "0.0",
         "886.0",
         "374.0",
         "490.0",
         "457.0",
         "21.2",
         "19.4",
         "19.3",
         "20.3",
         "77.5",
         "81.0",
         "79.0",
         "75.0",
         "31.3",
         "63.0",
         null,
         null,
         "2.1592337000000006",
         "0",
         "1594.807974",
         "882.00441",
         "886",
         "1594.807974",
         "186.763054344654",
         "72954.31810338047",
         "536.4288095836799",
         "0.15752542220933924",
         "1379.9226985538116",
         "8.117192344434185",
         "76165.0",
         "0.17",
         "1464.4",
         "8.61"
        ],
        [
         "2025-08-19 00:22:00",
         "3.1",
         "0.0",
         "885.0",
         "377.0",
         "488.0",
         "457.0",
         "21.1",
         "19.4",
         "19.3",
         "20.3",
         "77.0",
         "81.0",
         "79.0",
         "75.0",
         "31.3",
         "63.0",
         null,
         null,
         "2.1592337000000006",
         "0",
         "1593.007965",
         "878.4043919999999",
         "885",
         "1593.007965",
         "186.83811988096613",
         "73558.3149137662",
         "540.869962601222",
         "0.1588295924770166",
         "1391.3472300986655",
         "8.18439547116862",
         "76732.0",
         "0.17",
         "1476.28",
         "8.68"
        ],
        [
         "2025-08-19 00:23:00",
         "3.1",
         "0.0",
         "887.0",
         "378.0",
         "488.0",
         "457.0",
         "21.1",
         "19.4",
         "19.3",
         "20.3",
         "77.5",
         "81.0",
         "79.0",
         "75.0",
         "31.3",
         "63.0",
         null,
         null,
         "2.1592337000000006",
         "0",
         "1596.607983",
         "878.4043919999999",
         "887",
         "1596.607983",
         "186.83811988096613",
         "73413.79956030103",
         "539.8073497080959",
         "0.15851755005564722",
         "1388.6137384874696",
         "8.16831610874982",
         "76559.0",
         "0.17",
         "1472.01",
         "8.66"
        ],
        [
         "2025-08-19 00:24:00",
         "3.2",
         "0.0",
         "884.0",
         "379.0",
         "484.0",
         "460.0",
         "21.1",
         "19.4",
         "19.3",
         "20.4",
         "77.5",
         "81.0",
         "79.0",
         "75.0",
         "31.3",
         "63.0",
         null,
         null,
         "2.2288864",
         "0",
         "1591.207956",
         "871.204356",
         "884",
         "1591.207956",
         "186.83811988096613",
         "73995.29500236282",
         "544.0830514879619",
         "0.16492710669475444",
         "1444.761454646049",
         "8.498596792035583",
         "77162.0",
         "0.17",
         "1487.38",
         "8.75"
        ],
        [
         "2025-08-19 00:25:00",
         "3.1",
         "0.0",
         "882.0",
         "379.0",
         "484.0",
         "461.0",
         "21.1",
         "19.4",
         "19.3",
         "20.4",
         "77.5",
         "81.0",
         "79.0",
         "75.0",
         "31.3",
         "63.0",
         "12.0",
         "6.9",
         "2.1592337000000006",
         "0",
         "1587.6079379999999",
         "871.204356",
         "882",
         "1587.6079379999999",
         "186.83811988096613",
         "74289.51088706408",
         "546.2464035813535",
         "0.1604084154638657",
         "1405.1777194634635",
         "8.26575129096155",
         "77540.0",
         "0.17",
         "1492.28",
         "8.78"
        ],
        [
         "2025-08-19 00:26:00",
         "3.3",
         "0.0",
         "877.0",
         "379.0",
         "483.0",
         "460.0",
         "21.1",
         "19.5",
         "19.3",
         "20.4",
         "77.0",
         "80.0",
         "79.0",
         "74.0",
         "31.3",
         "63.0",
         null,
         null,
         "2.2985390999999997",
         "0",
         "1578.6078929999996",
         "869.4043469999999",
         "877",
         "1578.6078929999996",
         "186.83811988096613",
         "75035.38951042818",
         "551.7308052237366",
         "0.17247177667344904",
         "1510.8527636594135",
         "8.88736919799655",
         "78378.0",
         "0.18",
         "1561.23",
         "9.18"
        ],
        [
         "2025-08-19 00:27:00",
         "3.2",
         "0.0",
         "874.0",
         "378.0",
         "487.0",
         "461.0",
         "21.1",
         "19.4",
         "19.3",
         "20.4",
         "77.0",
         "80.0",
         "79.0",
         "74.0",
         "31.2",
         "63.0",
         null,
         null,
         "2.2288864",
         "0",
         "1573.207866",
         "876.6043829999999",
         "874",
         "1573.207866",
         "186.83811988096613",
         "75337.9515649057",
         "553.9555262125419",
         "0.16791973564687704",
         "1470.9768842666429",
         "8.652805201568487",
         "78677.0",
         "0.18",
         "1535.84",
         "9.03"
        ],
        [
         "2025-08-19 00:28:00",
         "3.3",
         "0.0",
         "868.0",
         "379.0",
         "488.0",
         "462.0",
         "21.1",
         "19.5",
         "19.3",
         "20.4",
         "77.0",
         "80.0",
         "79.0",
         "74.0",
         "31.3",
         "63.0",
         null,
         null,
         "2.2985390999999997",
         "0",
         "1562.4078119999997",
         "878.4043919999999",
         "868",
         "1562.4078119999997",
         "186.83811988096613",
         "76416.40894927041",
         "561.885359921106",
         "0.1756461038514879",
         "1538.6598697390339",
         "9.050940410229611",
         "79770.0",
         "0.18",
         "1599.68",
         "9.41"
        ],
        [
         "2025-08-19 00:29:00",
         "3.2",
         "0.0",
         "864.0",
         "380.0",
         "491.0",
         "463.0",
         "21.0",
         "19.5",
         "19.3",
         "20.4",
         "76.5",
         "80.0",
         "78.0",
         "74.0",
         "31.3",
         "62.0",
         null,
         null,
         "2.2288864",
         "0",
         "1555.207776",
         "883.804419",
         "864",
         "1555.207776",
         "186.91318541727833",
         "77236.8534782142",
         "567.9180402809867",
         "0.17215217229638433",
         "1508.0530293163265",
         "8.87090017244898",
         "80590.0",
         "0.18",
         "1570.37",
         "9.24"
        ],
        [
         "2025-08-19 00:30:00",
         "3.2",
         "0.0",
         "858.0",
         "381.0",
         "491.0",
         "463.0",
         "21.0",
         "19.4",
         "19.3",
         "20.4",
         "77.5",
         "80.0",
         "78.0",
         "74.0",
         "31.3",
         "63.0",
         null,
         null,
         "2.2288864",
         "0",
         "1544.407722",
         "883.804419",
         "858",
         "1544.407722",
         "186.91318541727833",
         "78370.3083510601",
         "576.2522672872066",
         "0.17467851444748428",
         "1530.1837865599623",
         "9.001081097411543",
         "81762.0",
         "0.18",
         "1596.1",
         "9.39"
        ],
        [
         "2025-08-19 00:31:00",
         "3.3",
         "0.0",
         "852.0",
         "381.0",
         "490.0",
         "463.0",
         "20.9",
         "19.5",
         "19.3",
         "20.4",
         "77.5",
         "80.0",
         "78.0",
         "74.0",
         "31.3",
         "62.0",
         null,
         null,
         "2.2985390999999997",
         "0",
         "1533.607668",
         "882.00441",
         "852",
         "1533.607668",
         "186.98825095359047",
         "79400.53119048428",
         "583.8274352241491",
         "0.18250522550209766",
         "1598.7457753983754",
         "9.404386914108091",
         "82793.0",
         "0.19",
         "1656.37",
         "9.74"
        ],
        [
         "2025-08-19 00:32:00",
         "3.2",
         "0.0",
         "847.0",
         "384.0",
         "491.0",
         "459.0",
         "21.0",
         "19.4",
         "19.3",
         "20.4",
         "78.0",
         "80.0",
         "78.0",
         "74.0",
         "31.3",
         "62.0",
         null,
         null,
         "2.2288864",
         "0",
         "1524.6076229999999",
         "883.804419",
         "847",
         "1524.6076229999999",
         "186.91318541727833",
         "80740.03689731247",
         "593.6767418920035",
         "0.17996037017591796",
         "1576.4528427410414",
         "9.273252016123774",
         "84345.0",
         "0.19",
         "1633.62",
         "9.61"
        ],
        [
         "2025-08-19 00:33:00",
         "3.2",
         "0.0",
         "845.0",
         "382.0",
         "488.0",
         "457.0",
         "21.0",
         "19.5",
         "19.3",
         "20.4",
         "77.5",
         "80.0",
         "78.0",
         "74.0",
         "31.3",
         "62.0",
         null,
         null,
         "2.2288864",
         "0",
         "1521.0076049999998",
         "878.4043919999999",
         "845",
         "1521.0076049999998",
         "186.91318541727833",
         "80740.03689731247",
         "593.6767418920035",
         "0.17996037017591796",
         "1576.4528427410414",
         "9.273252016123774",
         "84321.0",
         "0.19",
         "1672.46",
         "9.84"
        ],
        [
         "2025-08-19 00:34:00",
         "3.2",
         "0.0",
         "837.0",
         "379.0",
         "488.0",
         "456.0",
         "21.1",
         "19.4",
         "19.3",
         "20.4",
         "78.0",
         "80.0",
         "78.0",
         "74.0",
         "31.3",
         "62.0",
         null,
         null,
         "2.2288864",
         "0",
         "1506.6075329999999",
         "878.4043919999999",
         "837",
         "1506.6075329999999",
         "186.83811988096613",
         "81588.69863797649",
         "599.916901749827",
         "0.18185194078788433",
         "1593.0230013018668",
         "9.370723537069804",
         "85141.0",
         "0.19",
         "1653.17",
         "9.72"
        ],
        [
         "2025-08-19 00:35:00",
         "3.3",
         "0.0",
         "836.0",
         "378.0",
         "487.0",
         "454.0",
         "21.1",
         "19.5",
         "19.3",
         "20.4",
         "78.0",
         "80.0",
         "78.0",
         "74.0",
         "31.3",
         "62.0",
         null,
         null,
         "2.2985390999999997",
         "0",
         "1504.8075239999998",
         "876.6043829999999",
         "836",
         "1504.8075239999998",
         "186.83811988096613",
         "81588.69863797649",
         "599.916901749827",
         "0.18753481393750568",
         "1642.8049700925496",
         "9.663558647603233",
         "85160.0",
         "0.19",
         "1695.28",
         "9.97"
        ],
        [
         "2025-08-19 00:36:00",
         "3.2",
         "0.0",
         "837.0",
         "378.0",
         "487.0",
         "452.0",
         "21.1",
         "19.5",
         "19.3",
         "20.4",
         "77.0",
         "80.0",
         "78.0",
         "74.0",
         "31.3",
         "62.0",
         null,
         null,
         "2.2288864",
         "0",
         "1506.6075329999999",
         "876.6043829999999",
         "837",
         "1506.6075329999999",
         "186.83811988096613",
         "81410.94548190247",
         "598.6098932492829",
         "0.18145574919575386",
         "1589.552362954804",
         "9.3503080173812",
         "84897.0",
         "0.19",
         "1666.7",
         "9.8"
        ],
        [
         "2025-08-19 00:37:00",
         "3.2",
         "0.0",
         "841.0",
         "376.0",
         "487.0",
         "454.0",
         "21.1",
         "19.4",
         "19.3",
         "20.4",
         "77.5",
         "80.0",
         "78.0",
         "74.0",
         "31.3",
         "62.0",
         null,
         null,
         "2.2288864",
         "0",
         "1513.807569",
         "876.6043829999999",
         "841",
         "1513.807569",
         "186.83811988096613",
         "80360.48166923276",
         "590.8858946267114",
         "0.17911438469000218",
         "1569.042009884419",
         "9.229658881673053",
         "83905.0",
         "0.19",
         "1659.45",
         "9.76"
        ],
        [
         "2025-08-19 00:38:00",
         "3.2",
         "0.0",
         "840.0",
         "377.0",
         "487.0",
         "455.0",
         "21.2",
         "19.4",
         "19.3",
         "20.3",
         "77.5",
         "80.0",
         "78.0",
         "74.0",
         "31.3",
         "62.0",
         null,
         null,
         "2.2288864",
         "0",
         "1512.00756",
         "876.6043829999999",
         "840",
         "1512.00756",
         "186.763054344654",
         "80675.18546205357",
         "593.1998931033351",
         "0.1798158236938489",
         "1575.1866155581163",
         "9.265803620930095",
         "84255.0",
         "0.19",
         "1660.67",
         "9.77"
        ],
        [
         "2025-08-19 00:39:00",
         "3.2",
         "0.0",
         "837.0",
         "379.0",
         "484.0",
         "453.0",
         "21.2",
         "19.4",
         "19.3",
         "20.3",
         "77.0",
         "80.0",
         "78.0",
         "74.0",
         "31.3",
         "62.0",
         null,
         null,
         "2.2288864",
         "0",
         "1506.6075329999999",
         "871.204356",
         "837",
         "1506.6075329999999",
         "186.763054344654",
         "81555.91892779652",
         "599.675874469092",
         "0.18177887853766825",
         "1592.3829759899738",
         "9.366958682293964",
         "85155.0",
         "0.19",
         "1674.76",
         "9.85"
        ],
        [
         "2025-08-19 00:40:00",
         "3.2",
         "0.0",
         "841.0",
         "381.0",
         "483.0",
         "453.0",
         "21.2",
         "19.4",
         "19.3",
         "20.3",
         "77.5",
         "80.0",
         "78.0",
         "74.0",
         "31.2",
         "62.0",
         null,
         null,
         "2.2288864",
         "0",
         "1513.807569",
         "869.4043469999999",
         "841",
         "1513.807569",
         "186.763054344654",
         "81201.32797593654",
         "597.0685880583569",
         "0.18098853558750447",
         "1585.459571746539",
         "9.32623277497964",
         "84759.0",
         "0.19",
         "1645.71",
         "9.68"
        ],
        [
         "2025-08-19 00:41:00",
         "3.3",
         "0.0",
         "841.0",
         "381.0",
         "483.0",
         "454.0",
         "21.2",
         "19.4",
         "19.3",
         "20.3",
         "77.5",
         "80.0",
         "78.0",
         "74.0",
         "31.3",
         "62.0",
         null,
         null,
         "2.2985390999999997",
         "0",
         "1513.807569",
         "869.4043469999999",
         "841",
         "1513.807569",
         "186.763054344654",
         "81201.32797593654",
         "597.0685880583569",
         "0.18664442732461398",
         "1635.0051833636185",
         "9.617677549197756",
         "84697.0",
         "0.19",
         "1703.56",
         "10.02"
        ],
        [
         "2025-08-19 00:42:00",
         "3.3",
         "0.0",
         "844.0",
         "381.0",
         "481.0",
         "456.0",
         "21.2",
         "19.4",
         "19.3",
         "20.3",
         "77.0",
         "80.0",
         "78.0",
         "74.0",
         "31.2",
         "62.0",
         null,
         null,
         "2.2985390999999997",
         "0",
         "1519.2075959999997",
         "865.8043289999999",
         "844",
         "1519.2075959999997",
         "186.763054344654",
         "80675.18546205357",
         "593.1998931033351",
         "0.18543506818428168",
         "1624.4111972943076",
         "9.555359984084163",
         "84104.0",
         "0.19",
         "1690.1",
         "9.94"
        ],
        [
         "2025-08-19 00:43:00",
         "3.3",
         "0.0",
         "846.0",
         "380.0",
         "481.0",
         "455.0",
         "21.1",
         "19.4",
         "19.2",
         "20.3",
         "77.0",
         "80.0",
         "78.0",
         "74.0",
         "31.3",
         "62.0",
         null,
         null,
         "2.2985390999999997",
         "0",
         "1522.8076139999998",
         "865.8043289999999",
         "846",
         "1522.8076139999998",
         "186.83811988096613",
         "80188.03428367646",
         "589.6178991446799",
         "0.1843153321531708",
         "1614.6023096617764",
         "9.497660645069272",
         "83714.0",
         "0.19",
         "1684.36",
         "9.91"
        ],
        [
         "2025-08-19 00:44:00",
         "3.2",
         "0.0",
         "846.0",
         "382.0",
         "483.0",
         "455.0",
         "21.1",
         "19.4",
         "19.2",
         "20.3",
         "77.0",
         "80.0",
         "78.0",
         "74.0",
         "31.3",
         "62.0",
         null,
         null,
         "2.2288864",
         "0",
         "1522.8076139999998",
         "869.4043469999999",
         "846",
         "1522.8076139999998",
         "186.83811988096613",
         "80533.6723624854",
         "592.1593556065103",
         "0.1795004070707996",
         "1572.4235659402043",
         "9.249550387883554",
         "84051.0",
         "0.19",
         "1654.12",
         "9.73"
        ],
        [
         "2025-08-19 00:45:00",
         "3.3",
         "0.0",
         "843.0",
         "381.0",
         "484.0",
         "457.0",
         "21.0",
         "19.3",
         "19.3",
         "20.3",
         "77.0",
         "80.0",
         "78.0",
         "74.0",
         "31.2",
         "62.0",
         null,
         null,
         "2.2985390999999997",
         "0",
         "1517.4075869999997",
         "871.204356",
         "843",
         "1517.4075869999997",
         "186.91318541727833",
         "80914.79888193868",
         "594.9617564848432",
         "0.1859858289987723",
         "1629.2358620292453",
         "9.583740364877913",
         "84398.0",
         "0.19",
         "1702.29",
         "10.01"
        ],
        [
         "2025-08-19 00:46:00",
         "3.3",
         "0.0",
         "838.0",
         "380.0",
         "482.0",
         "459.0",
         "21.0",
         "19.3",
         "19.2",
         "20.3",
         "77.0",
         "80.0",
         "78.0",
         "74.0",
         "31.2",
         "62.0",
         null,
         null,
         "2.2985390999999997",
         "0",
         "1508.407542",
         "867.6043379999999",
         "838",
         "1508.407542",
         "186.91318541727833",
         "81621.4783481565",
         "600.1579290305625",
         "0.1876101593830411",
         "1643.46499619544",
         "9.667441154090824",
         "85222.0",
         "0.2",
         "1718.39",
         "10.11"
        ],
        [
         "2025-08-19 00:47:00",
         "3.2",
         "0.0",
         "833.0",
         "380.0",
         "480.0",
         "458.0",
         "20.9",
         "19.3",
         "19.2",
         "20.3",
         "77.0",
         "80.0",
         "78.0",
         "74.0",
         "31.2",
         "62.0",
         null,
         null,
         "2.2288864",
         "0",
         "1499.407497",
         "864.0043199999999",
         "833",
         "1499.407497",
         "186.98825095359047",
         "82555.51918480816",
         "607.0258763588836",
         "0.184006873955958",
         "1611.900215854192",
         "9.481765975612895",
         "86070.0",
         "0.19",
         "1673.27",
         "9.84"
        ],
        [
         "2025-08-19 00:48:00",
         "3.3",
         "0.0",
         "827.0",
         "380.0",
         "479.0",
         "460.0",
         "20.9",
         "19.3",
         "19.2",
         "20.3",
         "77.0",
         "80.0",
         "78.0",
         "74.0",
         "31.2",
         "62.0",
         null,
         null,
         "2.2985390999999997",
         "0",
         "1488.6074429999999",
         "862.204311",
         "827",
         "1488.6074429999999",
         "186.98825095359047",
         "83663.6469591009",
         "615.1738746992713",
         "0.19230416378408946",
         "1684.5844747486237",
         "9.909320439697787",
         "87281.0",
         "0.2",
         "1748.73",
         "10.29"
        ],
        [
         "2025-08-19 00:49:00",
         "3.3",
         "0.0",
         "813.0",
         "377.0",
         "478.0",
         "459.0",
         "20.9",
         "19.3",
         "19.2",
         "20.3",
         "77.0",
         "80.0",
         "78.0",
         "74.0",
         "31.2",
         "62.0",
         null,
         null,
         "2.2985390999999997",
         "0",
         "1463.407317",
         "860.4043019999999",
         "813",
         "1463.407317",
         "186.98825095359047",
         "85774.42704293142",
         "630.6943164921428",
         "0.19715587433827522",
         "1727.085459203291",
         "10.159326230607595",
         "89548.0",
         "0.2",
         "1794.16",
         "10.55"
        ]
       ],
       "shape": {
        "columns": 34,
        "rows": 5760
       }
      },
      "text/html": [
       "<div>\n",
       "<style scoped>\n",
       "    .dataframe tbody tr th:only-of-type {\n",
       "        vertical-align: middle;\n",
       "    }\n",
       "\n",
       "    .dataframe tbody tr th {\n",
       "        vertical-align: top;\n",
       "    }\n",
       "\n",
       "    .dataframe thead th {\n",
       "        text-align: right;\n",
       "    }\n",
       "</style>\n",
       "<table border=\"1\" class=\"dataframe\">\n",
       "  <thead>\n",
       "    <tr style=\"text-align: right;\">\n",
       "      <th></th>\n",
       "      <th>NH3 concentratie stal (ppm)</th>\n",
       "      <th>NH3 concentratie buiten (ppm)</th>\n",
       "      <th>CO2 concentratie stal (ppm)</th>\n",
       "      <th>CO2 concentratie buiten1 (ppm)</th>\n",
       "      <th>CO2 concentratie buiten2 (ppm)</th>\n",
       "      <th>CO2 concentratie buiten3 (ppm)</th>\n",
       "      <th>Temperatuur stal ©</th>\n",
       "      <th>Temperatuur buiten1 ©</th>\n",
       "      <th>Temperatuur buiten2 ©</th>\n",
       "      <th>Temperatuur buiten3 ©</th>\n",
       "      <th>...</th>\n",
       "      <th>PCO2 correctie</th>\n",
       "      <th>Ventilatiedebiet (m3/u)</th>\n",
       "      <th>Ventilatiedebiet (m3/dier/u)</th>\n",
       "      <th>NH3 emissie (kg/u)</th>\n",
       "      <th>NH3 emissie (kg/j)</th>\n",
       "      <th>NH3 emissie (kg/dp/j)</th>\n",
       "      <th>Ventilatiedebiet (m3/u).1</th>\n",
       "      <th>NH3 emissie (kg/u).1</th>\n",
       "      <th>NH3 emissie (kg/j).1</th>\n",
       "      <th>NH3 emissie (kg/dp/j).1</th>\n",
       "    </tr>\n",
       "    <tr>\n",
       "      <th>Tijd</th>\n",
       "      <th></th>\n",
       "      <th></th>\n",
       "      <th></th>\n",
       "      <th></th>\n",
       "      <th></th>\n",
       "      <th></th>\n",
       "      <th></th>\n",
       "      <th></th>\n",
       "      <th></th>\n",
       "      <th></th>\n",
       "      <th></th>\n",
       "      <th></th>\n",
       "      <th></th>\n",
       "      <th></th>\n",
       "      <th></th>\n",
       "      <th></th>\n",
       "      <th></th>\n",
       "      <th></th>\n",
       "      <th></th>\n",
       "      <th></th>\n",
       "      <th></th>\n",
       "    </tr>\n",
       "  </thead>\n",
       "  <tbody>\n",
       "    <tr>\n",
       "      <th>2025-08-19 00:00:00</th>\n",
       "      <td>2.9</td>\n",
       "      <td>0.0</td>\n",
       "      <td>896.0</td>\n",
       "      <td>369.0</td>\n",
       "      <td>491.0</td>\n",
       "      <td>452.0</td>\n",
       "      <td>21.3</td>\n",
       "      <td>19.4</td>\n",
       "      <td>19.2</td>\n",
       "      <td>20.3</td>\n",
       "      <td>...</td>\n",
       "      <td>186.687989</td>\n",
       "      <td>70849.331616</td>\n",
       "      <td>520.950968</td>\n",
       "      <td>0.143111</td>\n",
       "      <td>1253.648593</td>\n",
       "      <td>7.374403</td>\n",
       "      <td>74000.0</td>\n",
       "      <td>0.15</td>\n",
       "      <td>1324.09</td>\n",
       "      <td>7.79</td>\n",
       "    </tr>\n",
       "    <tr>\n",
       "      <th>2025-08-19 00:01:00</th>\n",
       "      <td>3.0</td>\n",
       "      <td>0.0</td>\n",
       "      <td>898.0</td>\n",
       "      <td>370.0</td>\n",
       "      <td>494.0</td>\n",
       "      <td>453.0</td>\n",
       "      <td>21.4</td>\n",
       "      <td>19.4</td>\n",
       "      <td>19.3</td>\n",
       "      <td>20.3</td>\n",
       "      <td>...</td>\n",
       "      <td>186.612923</td>\n",
       "      <td>70686.713361</td>\n",
       "      <td>519.755245</td>\n",
       "      <td>0.147706</td>\n",
       "      <td>1293.901172</td>\n",
       "      <td>7.611183</td>\n",
       "      <td>73763.0</td>\n",
       "      <td>0.15</td>\n",
       "      <td>1346.91</td>\n",
       "      <td>7.92</td>\n",
       "    </tr>\n",
       "    <tr>\n",
       "      <th>2025-08-19 00:02:00</th>\n",
       "      <td>3.0</td>\n",
       "      <td>0.0</td>\n",
       "      <td>900.0</td>\n",
       "      <td>370.0</td>\n",
       "      <td>497.0</td>\n",
       "      <td>453.0</td>\n",
       "      <td>21.4</td>\n",
       "      <td>19.4</td>\n",
       "      <td>19.2</td>\n",
       "      <td>20.3</td>\n",
       "      <td>...</td>\n",
       "      <td>186.612923</td>\n",
       "      <td>70419.971046</td>\n",
       "      <td>517.793905</td>\n",
       "      <td>0.147148</td>\n",
       "      <td>1289.018526</td>\n",
       "      <td>7.582462</td>\n",
       "      <td>73464.0</td>\n",
       "      <td>0.15</td>\n",
       "      <td>1341.45</td>\n",
       "      <td>7.89</td>\n",
       "    </tr>\n",
       "    <tr>\n",
       "      <th>2025-08-19 00:03:00</th>\n",
       "      <td>3.0</td>\n",
       "      <td>0.0</td>\n",
       "      <td>908.0</td>\n",
       "      <td>368.0</td>\n",
       "      <td>496.0</td>\n",
       "      <td>455.0</td>\n",
       "      <td>21.3</td>\n",
       "      <td>19.4</td>\n",
       "      <td>19.2</td>\n",
       "      <td>20.3</td>\n",
       "      <td>...</td>\n",
       "      <td>186.687989</td>\n",
       "      <td>69143.699559</td>\n",
       "      <td>508.409556</td>\n",
       "      <td>0.144481</td>\n",
       "      <td>1265.656721</td>\n",
       "      <td>7.445040</td>\n",
       "      <td>72125.0</td>\n",
       "      <td>0.15</td>\n",
       "      <td>1318.32</td>\n",
       "      <td>7.75</td>\n",
       "    </tr>\n",
       "    <tr>\n",
       "      <th>2025-08-19 00:04:00</th>\n",
       "      <td>3.0</td>\n",
       "      <td>0.0</td>\n",
       "      <td>910.0</td>\n",
       "      <td>367.0</td>\n",
       "      <td>494.0</td>\n",
       "      <td>456.0</td>\n",
       "      <td>21.3</td>\n",
       "      <td>19.3</td>\n",
       "      <td>19.2</td>\n",
       "      <td>20.3</td>\n",
       "      <td>...</td>\n",
       "      <td>186.687989</td>\n",
       "      <td>68761.690169</td>\n",
       "      <td>505.600663</td>\n",
       "      <td>0.143683</td>\n",
       "      <td>1258.664143</td>\n",
       "      <td>7.403907</td>\n",
       "      <td>71715.0</td>\n",
       "      <td>0.15</td>\n",
       "      <td>1312.79</td>\n",
       "      <td>7.72</td>\n",
       "    </tr>\n",
       "    <tr>\n",
       "      <th>...</th>\n",
       "      <td>...</td>\n",
       "      <td>...</td>\n",
       "      <td>...</td>\n",
       "      <td>...</td>\n",
       "      <td>...</td>\n",
       "      <td>...</td>\n",
       "      <td>...</td>\n",
       "      <td>...</td>\n",
       "      <td>...</td>\n",
       "      <td>...</td>\n",
       "      <td>...</td>\n",
       "      <td>...</td>\n",
       "      <td>...</td>\n",
       "      <td>...</td>\n",
       "      <td>...</td>\n",
       "      <td>...</td>\n",
       "      <td>...</td>\n",
       "      <td>...</td>\n",
       "      <td>...</td>\n",
       "      <td>...</td>\n",
       "      <td>...</td>\n",
       "    </tr>\n",
       "    <tr>\n",
       "      <th>2025-08-22 23:55:00</th>\n",
       "      <td>2.1</td>\n",
       "      <td>0.0</td>\n",
       "      <td>611.0</td>\n",
       "      <td>395.0</td>\n",
       "      <td>490.0</td>\n",
       "      <td>483.0</td>\n",
       "      <td>16.6</td>\n",
       "      <td>15.0</td>\n",
       "      <td>14.9</td>\n",
       "      <td>16.4</td>\n",
       "      <td>...</td>\n",
       "      <td>190.216069</td>\n",
       "      <td>176125.989829</td>\n",
       "      <td>1295.044043</td>\n",
       "      <td>0.257621</td>\n",
       "      <td>2256.757029</td>\n",
       "      <td>13.275041</td>\n",
       "      <td>183621.0</td>\n",
       "      <td>0.30</td>\n",
       "      <td>2597.60</td>\n",
       "      <td>15.28</td>\n",
       "    </tr>\n",
       "    <tr>\n",
       "      <th>2025-08-22 23:56:00</th>\n",
       "      <td>2.2</td>\n",
       "      <td>0.0</td>\n",
       "      <td>607.0</td>\n",
       "      <td>396.0</td>\n",
       "      <td>489.0</td>\n",
       "      <td>484.0</td>\n",
       "      <td>16.6</td>\n",
       "      <td>15.0</td>\n",
       "      <td>14.9</td>\n",
       "      <td>16.4</td>\n",
       "      <td>...</td>\n",
       "      <td>190.216069</td>\n",
       "      <td>180299.591483</td>\n",
       "      <td>1325.732290</td>\n",
       "      <td>0.276284</td>\n",
       "      <td>2420.245859</td>\n",
       "      <td>14.236740</td>\n",
       "      <td>188244.0</td>\n",
       "      <td>0.31</td>\n",
       "      <td>2691.75</td>\n",
       "      <td>15.83</td>\n",
       "    </tr>\n",
       "    <tr>\n",
       "      <th>2025-08-22 23:57:00</th>\n",
       "      <td>2.1</td>\n",
       "      <td>0.0</td>\n",
       "      <td>603.0</td>\n",
       "      <td>394.0</td>\n",
       "      <td>488.0</td>\n",
       "      <td>487.0</td>\n",
       "      <td>16.6</td>\n",
       "      <td>15.0</td>\n",
       "      <td>14.9</td>\n",
       "      <td>16.5</td>\n",
       "      <td>...</td>\n",
       "      <td>190.216069</td>\n",
       "      <td>182024.946426</td>\n",
       "      <td>1338.418724</td>\n",
       "      <td>0.266249</td>\n",
       "      <td>2332.342192</td>\n",
       "      <td>13.719660</td>\n",
       "      <td>189992.0</td>\n",
       "      <td>0.30</td>\n",
       "      <td>2604.49</td>\n",
       "      <td>15.32</td>\n",
       "    </tr>\n",
       "    <tr>\n",
       "      <th>2025-08-22 23:58:00</th>\n",
       "      <td>2.1</td>\n",
       "      <td>0.0</td>\n",
       "      <td>600.0</td>\n",
       "      <td>395.0</td>\n",
       "      <td>486.0</td>\n",
       "      <td>491.0</td>\n",
       "      <td>16.5</td>\n",
       "      <td>15.0</td>\n",
       "      <td>14.9</td>\n",
       "      <td>16.5</td>\n",
       "      <td>...</td>\n",
       "      <td>190.291135</td>\n",
       "      <td>185649.887367</td>\n",
       "      <td>1365.072701</td>\n",
       "      <td>0.271551</td>\n",
       "      <td>2378.789687</td>\n",
       "      <td>13.992881</td>\n",
       "      <td>193900.0</td>\n",
       "      <td>0.31</td>\n",
       "      <td>2727.22</td>\n",
       "      <td>16.04</td>\n",
       "    </tr>\n",
       "    <tr>\n",
       "      <th>2025-08-22 23:59:00</th>\n",
       "      <td>2.1</td>\n",
       "      <td>0.0</td>\n",
       "      <td>599.0</td>\n",
       "      <td>397.0</td>\n",
       "      <td>485.0</td>\n",
       "      <td>492.0</td>\n",
       "      <td>16.6</td>\n",
       "      <td>15.0</td>\n",
       "      <td>14.9</td>\n",
       "      <td>16.5</td>\n",
       "      <td>...</td>\n",
       "      <td>190.216069</td>\n",
       "      <td>188332.741599</td>\n",
       "      <td>1384.799571</td>\n",
       "      <td>0.275476</td>\n",
       "      <td>2413.165932</td>\n",
       "      <td>14.195094</td>\n",
       "      <td>196860.0</td>\n",
       "      <td>0.31</td>\n",
       "      <td>2707.79</td>\n",
       "      <td>15.93</td>\n",
       "    </tr>\n",
       "  </tbody>\n",
       "</table>\n",
       "<p>5760 rows × 34 columns</p>\n",
       "</div>"
      ],
      "text/plain": [
       "                     NH3 concentratie stal (ppm)  \\\n",
       "Tijd                                               \n",
       "2025-08-19 00:00:00                          2.9   \n",
       "2025-08-19 00:01:00                          3.0   \n",
       "2025-08-19 00:02:00                          3.0   \n",
       "2025-08-19 00:03:00                          3.0   \n",
       "2025-08-19 00:04:00                          3.0   \n",
       "...                                          ...   \n",
       "2025-08-22 23:55:00                          2.1   \n",
       "2025-08-22 23:56:00                          2.2   \n",
       "2025-08-22 23:57:00                          2.1   \n",
       "2025-08-22 23:58:00                          2.1   \n",
       "2025-08-22 23:59:00                          2.1   \n",
       "\n",
       "                     NH3 concentratie buiten (ppm)  \\\n",
       "Tijd                                                 \n",
       "2025-08-19 00:00:00                            0.0   \n",
       "2025-08-19 00:01:00                            0.0   \n",
       "2025-08-19 00:02:00                            0.0   \n",
       "2025-08-19 00:03:00                            0.0   \n",
       "2025-08-19 00:04:00                            0.0   \n",
       "...                                            ...   \n",
       "2025-08-22 23:55:00                            0.0   \n",
       "2025-08-22 23:56:00                            0.0   \n",
       "2025-08-22 23:57:00                            0.0   \n",
       "2025-08-22 23:58:00                            0.0   \n",
       "2025-08-22 23:59:00                            0.0   \n",
       "\n",
       "                     CO2 concentratie stal (ppm)  \\\n",
       "Tijd                                               \n",
       "2025-08-19 00:00:00                        896.0   \n",
       "2025-08-19 00:01:00                        898.0   \n",
       "2025-08-19 00:02:00                        900.0   \n",
       "2025-08-19 00:03:00                        908.0   \n",
       "2025-08-19 00:04:00                        910.0   \n",
       "...                                          ...   \n",
       "2025-08-22 23:55:00                        611.0   \n",
       "2025-08-22 23:56:00                        607.0   \n",
       "2025-08-22 23:57:00                        603.0   \n",
       "2025-08-22 23:58:00                        600.0   \n",
       "2025-08-22 23:59:00                        599.0   \n",
       "\n",
       "                     CO2 concentratie buiten1 (ppm)  \\\n",
       "Tijd                                                  \n",
       "2025-08-19 00:00:00                           369.0   \n",
       "2025-08-19 00:01:00                           370.0   \n",
       "2025-08-19 00:02:00                           370.0   \n",
       "2025-08-19 00:03:00                           368.0   \n",
       "2025-08-19 00:04:00                           367.0   \n",
       "...                                             ...   \n",
       "2025-08-22 23:55:00                           395.0   \n",
       "2025-08-22 23:56:00                           396.0   \n",
       "2025-08-22 23:57:00                           394.0   \n",
       "2025-08-22 23:58:00                           395.0   \n",
       "2025-08-22 23:59:00                           397.0   \n",
       "\n",
       "                     CO2 concentratie buiten2 (ppm)  \\\n",
       "Tijd                                                  \n",
       "2025-08-19 00:00:00                           491.0   \n",
       "2025-08-19 00:01:00                           494.0   \n",
       "2025-08-19 00:02:00                           497.0   \n",
       "2025-08-19 00:03:00                           496.0   \n",
       "2025-08-19 00:04:00                           494.0   \n",
       "...                                             ...   \n",
       "2025-08-22 23:55:00                           490.0   \n",
       "2025-08-22 23:56:00                           489.0   \n",
       "2025-08-22 23:57:00                           488.0   \n",
       "2025-08-22 23:58:00                           486.0   \n",
       "2025-08-22 23:59:00                           485.0   \n",
       "\n",
       "                     CO2 concentratie buiten3 (ppm)  Temperatuur stal ©  \\\n",
       "Tijd                                                                      \n",
       "2025-08-19 00:00:00                           452.0                21.3   \n",
       "2025-08-19 00:01:00                           453.0                21.4   \n",
       "2025-08-19 00:02:00                           453.0                21.4   \n",
       "2025-08-19 00:03:00                           455.0                21.3   \n",
       "2025-08-19 00:04:00                           456.0                21.3   \n",
       "...                                             ...                 ...   \n",
       "2025-08-22 23:55:00                           483.0                16.6   \n",
       "2025-08-22 23:56:00                           484.0                16.6   \n",
       "2025-08-22 23:57:00                           487.0                16.6   \n",
       "2025-08-22 23:58:00                           491.0                16.5   \n",
       "2025-08-22 23:59:00                           492.0                16.6   \n",
       "\n",
       "                     Temperatuur buiten1 ©  Temperatuur buiten2 ©  \\\n",
       "Tijd                                                                \n",
       "2025-08-19 00:00:00                   19.4                   19.2   \n",
       "2025-08-19 00:01:00                   19.4                   19.3   \n",
       "2025-08-19 00:02:00                   19.4                   19.2   \n",
       "2025-08-19 00:03:00                   19.4                   19.2   \n",
       "2025-08-19 00:04:00                   19.3                   19.2   \n",
       "...                                    ...                    ...   \n",
       "2025-08-22 23:55:00                   15.0                   14.9   \n",
       "2025-08-22 23:56:00                   15.0                   14.9   \n",
       "2025-08-22 23:57:00                   15.0                   14.9   \n",
       "2025-08-22 23:58:00                   15.0                   14.9   \n",
       "2025-08-22 23:59:00                   15.0                   14.9   \n",
       "\n",
       "                     Temperatuur buiten3 ©  ...  PCO2 correctie  \\\n",
       "Tijd                                        ...                   \n",
       "2025-08-19 00:00:00                   20.3  ...      186.687989   \n",
       "2025-08-19 00:01:00                   20.3  ...      186.612923   \n",
       "2025-08-19 00:02:00                   20.3  ...      186.612923   \n",
       "2025-08-19 00:03:00                   20.3  ...      186.687989   \n",
       "2025-08-19 00:04:00                   20.3  ...      186.687989   \n",
       "...                                    ...  ...             ...   \n",
       "2025-08-22 23:55:00                   16.4  ...      190.216069   \n",
       "2025-08-22 23:56:00                   16.4  ...      190.216069   \n",
       "2025-08-22 23:57:00                   16.5  ...      190.216069   \n",
       "2025-08-22 23:58:00                   16.5  ...      190.291135   \n",
       "2025-08-22 23:59:00                   16.5  ...      190.216069   \n",
       "\n",
       "                     Ventilatiedebiet (m3/u)  Ventilatiedebiet (m3/dier/u)  \\\n",
       "Tijd                                                                         \n",
       "2025-08-19 00:00:00             70849.331616                    520.950968   \n",
       "2025-08-19 00:01:00             70686.713361                    519.755245   \n",
       "2025-08-19 00:02:00             70419.971046                    517.793905   \n",
       "2025-08-19 00:03:00             69143.699559                    508.409556   \n",
       "2025-08-19 00:04:00             68761.690169                    505.600663   \n",
       "...                                      ...                           ...   \n",
       "2025-08-22 23:55:00            176125.989829                   1295.044043   \n",
       "2025-08-22 23:56:00            180299.591483                   1325.732290   \n",
       "2025-08-22 23:57:00            182024.946426                   1338.418724   \n",
       "2025-08-22 23:58:00            185649.887367                   1365.072701   \n",
       "2025-08-22 23:59:00            188332.741599                   1384.799571   \n",
       "\n",
       "                     NH3 emissie (kg/u)  NH3 emissie (kg/j)  \\\n",
       "Tijd                                                          \n",
       "2025-08-19 00:00:00            0.143111         1253.648593   \n",
       "2025-08-19 00:01:00            0.147706         1293.901172   \n",
       "2025-08-19 00:02:00            0.147148         1289.018526   \n",
       "2025-08-19 00:03:00            0.144481         1265.656721   \n",
       "2025-08-19 00:04:00            0.143683         1258.664143   \n",
       "...                                 ...                 ...   \n",
       "2025-08-22 23:55:00            0.257621         2256.757029   \n",
       "2025-08-22 23:56:00            0.276284         2420.245859   \n",
       "2025-08-22 23:57:00            0.266249         2332.342192   \n",
       "2025-08-22 23:58:00            0.271551         2378.789687   \n",
       "2025-08-22 23:59:00            0.275476         2413.165932   \n",
       "\n",
       "                     NH3 emissie (kg/dp/j)  Ventilatiedebiet (m3/u).1  \\\n",
       "Tijd                                                                    \n",
       "2025-08-19 00:00:00               7.374403                    74000.0   \n",
       "2025-08-19 00:01:00               7.611183                    73763.0   \n",
       "2025-08-19 00:02:00               7.582462                    73464.0   \n",
       "2025-08-19 00:03:00               7.445040                    72125.0   \n",
       "2025-08-19 00:04:00               7.403907                    71715.0   \n",
       "...                                    ...                        ...   \n",
       "2025-08-22 23:55:00              13.275041                   183621.0   \n",
       "2025-08-22 23:56:00              14.236740                   188244.0   \n",
       "2025-08-22 23:57:00              13.719660                   189992.0   \n",
       "2025-08-22 23:58:00              13.992881                   193900.0   \n",
       "2025-08-22 23:59:00              14.195094                   196860.0   \n",
       "\n",
       "                     NH3 emissie (kg/u).1  NH3 emissie (kg/j).1  \\\n",
       "Tijd                                                              \n",
       "2025-08-19 00:00:00                  0.15               1324.09   \n",
       "2025-08-19 00:01:00                  0.15               1346.91   \n",
       "2025-08-19 00:02:00                  0.15               1341.45   \n",
       "2025-08-19 00:03:00                  0.15               1318.32   \n",
       "2025-08-19 00:04:00                  0.15               1312.79   \n",
       "...                                   ...                   ...   \n",
       "2025-08-22 23:55:00                  0.30               2597.60   \n",
       "2025-08-22 23:56:00                  0.31               2691.75   \n",
       "2025-08-22 23:57:00                  0.30               2604.49   \n",
       "2025-08-22 23:58:00                  0.31               2727.22   \n",
       "2025-08-22 23:59:00                  0.31               2707.79   \n",
       "\n",
       "                     NH3 emissie (kg/dp/j).1  \n",
       "Tijd                                          \n",
       "2025-08-19 00:00:00                     7.79  \n",
       "2025-08-19 00:01:00                     7.92  \n",
       "2025-08-19 00:02:00                     7.89  \n",
       "2025-08-19 00:03:00                     7.75  \n",
       "2025-08-19 00:04:00                     7.72  \n",
       "...                                      ...  \n",
       "2025-08-22 23:55:00                    15.28  \n",
       "2025-08-22 23:56:00                    15.83  \n",
       "2025-08-22 23:57:00                    15.32  \n",
       "2025-08-22 23:58:00                    16.04  \n",
       "2025-08-22 23:59:00                    15.93  \n",
       "\n",
       "[5760 rows x 34 columns]"
      ]
     },
     "execution_count": null,
     "metadata": {},
     "output_type": "execute_result"
    }
   ],
   "source": [
    "test_dataframe"
   ]
  },
  {
   "cell_type": "code",
   "execution_count": null,
   "id": "0d44b188",
   "metadata": {},
   "outputs": [
    {
     "name": "stdout",
     "output_type": "stream",
     "text": [
      "{\n",
      "  \"stal\": {\n",
      "    \"nh3\": [\n",
      "      \"NH3 concentratie stal (ppm)\",\n",
      "      \"NH3 concentratie stal (mg/m3)\"\n",
      "    ],\n",
      "    \"co2\": [\n",
      "      \"CO2 concentratie stal (ppm)\",\n",
      "      \"CO2 concentratie stal (mg/m3)\"\n",
      "    ],\n",
      "    \"temp\": [\n",
      "      \"Temperatuur stal \\u00a9\"\n",
      "    ]\n",
      "  },\n",
      "  \"buiten\": {\n",
      "    \"nh3\": [\n",
      "      \"NH3 concentratie buiten (ppm)\",\n",
      "      \"NH3 concentratie buiten (mg/m3)\"\n",
      "    ],\n",
      "    \"co2\": [\n",
      "      \"CO2 concentratie buiten1 (ppm)\",\n",
      "      \"CO2 concentratie buiten2 (ppm)\",\n",
      "      \"CO2 concentratie buiten3 (ppm)\",\n",
      "      \"CO2 concentatie buiten (mg/m3)\"\n",
      "    ],\n",
      "    \"temp\": [\n",
      "      \"Temperatuur buiten1 \\u00a9\",\n",
      "      \"Temperatuur buiten2 \\u00a9\",\n",
      "      \"Temperatuur buiten3 \\u00a9\"\n",
      "    ]\n",
      "  }\n",
      "}\n"
     ]
    }
   ],
   "source": [
    "print(json.dumps(extract_column_names(test_dataframe), indent=2))"
   ]
  },
  {
   "cell_type": "code",
   "execution_count": null,
   "id": "a63e0c27",
   "metadata": {},
   "outputs": [],
   "source": [
    "import nbdev; nbdev.nbdev_export()"
   ]
  }
 ],
 "metadata": {
  "kernelspec": {
   "display_name": "litany.venv",
   "language": "python",
   "name": "litany.venv"
  }
 },
 "nbformat": 4,
 "nbformat_minor": 5
}
